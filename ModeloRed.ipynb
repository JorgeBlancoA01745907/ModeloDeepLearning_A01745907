{
  "cells": [
    {
      "cell_type": "markdown",
      "metadata": {
        "id": "4vGeTSA6jmze"
      },
      "source": [
        "#Jorge Isidro Blanco Martínez A01745907\n"
      ]
    },
    {
      "cell_type": "markdown",
      "source": [
        "Cambio de dataset y objetivo\n",
        "En la primera entrega probé con datos para predecir la temperatura en ciertas regiones sin embargo, no era un dataset adecuado por lo que he cambiado el dataset y objetivo por uno de análisis de sentimiento de tweets utilizando una red neuronal recurrente"
      ],
      "metadata": {
        "id": "fW2qEMXcDuLp"
      }
    },
    {
      "cell_type": "markdown",
      "source": [
        "Importación de librerías necesarias"
      ],
      "metadata": {
        "id": "Xr3oE1N8tDu0"
      }
    },
    {
      "cell_type": "code",
      "source": [
        "import torch\n",
        "import torch.nn as nn\n",
        "import torch.optim as optim\n",
        "from torch.utils.data import DataLoader, TensorDataset\n",
        "from sklearn.model_selection import train_test_split\n",
        "from sklearn.metrics import accuracy_score\n",
        "from tqdm import tqdm\n",
        "import pandas as pd\n",
        "from sklearn.preprocessing import LabelEncoder\n",
        "import matplotlib.pyplot as plt\n",
        "from sklearn.feature_extraction.text import CountVectorizer, TfidfTransformer\n",
        "from sklearn.pipeline import make_pipeline"
      ],
      "metadata": {
        "id": "FzUcWly0Q5Fy"
      },
      "execution_count": 3,
      "outputs": []
    },
    {
      "cell_type": "markdown",
      "source": [
        "Construcción del primer modelo"
      ],
      "metadata": {
        "id": "lgrzhdprt9QI"
      }
    },
    {
      "cell_type": "markdown",
      "source": [
        "El primer modelo cuenta con una capa LSTM bidireccional, una capa lineal y una de dropout con valor de 0.5, también definimos la función de entrenamiento que imprimirá la pérdida y precisión en el entrenamiento y validación"
      ],
      "metadata": {
        "id": "MxX8_rcJuakv"
      }
    },
    {
      "cell_type": "code",
      "source": [
        "class RNNClassifier(nn.Module):\n",
        "    def __init__(self, input_size, hidden_size, num_layers, num_classes, dropout_rate=0.5):\n",
        "        super(RNNClassifier, self).__init__()\n",
        "        self.rnn = nn.LSTM(input_size, hidden_size, num_layers, batch_first=True, bidirectional=False, dropout=dropout_rate)\n",
        "        self.fc = nn.Linear(hidden_size * 2, num_classes)\n",
        "        self.dropout = nn.Dropout(dropout_rate)\n",
        "\n",
        "    def forward(self, x):\n",
        "        _, (hn, _) = self.rnn(x)\n",
        "        hn = torch.cat((hn[-2, :, :], hn[-1, :, :]), dim=1)  # Concatenar las salidas bidireccionales\n",
        "        hn = self.dropout(hn)\n",
        "        output = self.fc(hn)\n",
        "        return output\n",
        "\n",
        "def train_rnn(model, train_loader, val_loader, criterion, optimizer, scheduler, num_epochs=5):\n",
        "    train_losses = []\n",
        "    val_losses = []\n",
        "    train_accuracies = []\n",
        "    val_accuracies = []\n",
        "\n",
        "    for epoch in range(num_epochs):\n",
        "        model.train()\n",
        "        running_loss = 0.0\n",
        "        all_preds = []\n",
        "        all_labels = []\n",
        "\n",
        "        for inputs, labels in tqdm(train_loader, desc=f'Epoch {epoch + 1}/{num_epochs} (Training)'):\n",
        "            optimizer.zero_grad()\n",
        "\n",
        "            sequence_length = inputs.size(1) // input_size\n",
        "            inputs = inputs.view(inputs.size(0), sequence_length, input_size)\n",
        "\n",
        "            outputs = model(inputs)\n",
        "            loss = criterion(outputs, labels)\n",
        "            loss.backward()\n",
        "            optimizer.step()\n",
        "            running_loss += loss.item()\n",
        "\n",
        "            preds = torch.argmax(outputs, dim=1).cpu().numpy()\n",
        "            all_preds.extend(preds)\n",
        "            all_labels.extend(labels.cpu().numpy())\n",
        "\n",
        "        avg_train_loss = running_loss / len(train_loader)\n",
        "        train_losses.append(avg_train_loss)\n",
        "\n",
        "        train_accuracy = accuracy_score(all_labels, all_preds)\n",
        "        train_accuracies.append(train_accuracy)\n",
        "\n",
        "        print(f'Training Loss: {avg_train_loss}, Training Accuracy: {train_accuracy:.4f}')\n",
        "\n",
        "        model.eval()\n",
        "        val_loss = 0.0\n",
        "        all_preds = []\n",
        "        all_labels = []\n",
        "\n",
        "        with torch.no_grad():\n",
        "            for val_inputs, val_labels in tqdm(val_loader, desc=f'Epoch {epoch + 1}/{num_epochs} (Validation)'):\n",
        "                sequence_length = val_inputs.size(1) // input_size\n",
        "                val_inputs = val_inputs.view(val_inputs.size(0), sequence_length, input_size)\n",
        "\n",
        "                val_outputs = model(val_inputs)\n",
        "                val_loss += criterion(val_outputs, val_labels).item()\n",
        "\n",
        "                preds = torch.argmax(val_outputs, dim=1).cpu().numpy()\n",
        "                all_preds.extend(preds)\n",
        "                all_labels.extend(val_labels.cpu().numpy())\n",
        "\n",
        "            avg_val_loss = val_loss / len(val_loader)\n",
        "            val_losses.append(avg_val_loss)\n",
        "\n",
        "            val_accuracy = accuracy_score(all_labels, all_preds)\n",
        "            val_accuracies.append(val_accuracy)\n",
        "\n",
        "            print(f'Validation Loss: {avg_val_loss}, Validation Accuracy: {val_accuracy:.4f}')\n",
        "\n",
        "        scheduler.step(avg_val_loss)\n",
        "\n",
        "    plt.figure(figsize=(12, 6))\n",
        "\n",
        "    # Graficas Perdida\n",
        "    plt.subplot(1, 2, 1)\n",
        "    plt.plot(range(1, num_epochs + 1), train_losses, label='Training Loss')\n",
        "    plt.plot(range(1, num_epochs + 1), val_losses, label='Validation Loss')\n",
        "    plt.xlabel('Epoch')\n",
        "    plt.ylabel('Loss')\n",
        "    plt.title('Training and Validation Loss Over Epochs')\n",
        "    plt.legend()\n",
        "\n",
        "    # Graficas Precision\n",
        "    plt.subplot(1, 2, 2)\n",
        "    plt.plot(range(1, num_epochs + 1), train_accuracies, label='Training Accuracy')\n",
        "    plt.plot(range(1, num_epochs + 1), val_accuracies, label='Validation Accuracy')\n",
        "    plt.xlabel('Epoch')\n",
        "    plt.ylabel('Accuracy')\n",
        "    plt.title('Training and Validation Accuracy Over Epochs')\n",
        "    plt.legend()\n",
        "\n",
        "    plt.tight_layout()\n",
        "    plt.show()\n",
        "\n",
        "    return train_losses, val_losses, train_accuracies, val_accuracies"
      ],
      "metadata": {
        "id": "81A_I_LIDtxY"
      },
      "execution_count": null,
      "outputs": []
    },
    {
      "cell_type": "markdown",
      "source": [
        "Lectura de csv y visualización de la forma de los datos\n",
        "\n"
      ],
      "metadata": {
        "id": "whyx4DX8u0De"
      }
    },
    {
      "cell_type": "code",
      "source": [
        "df = pd.read_csv('Twitter_Data.csv')"
      ],
      "metadata": {
        "id": "q8ukNVgZD08Q"
      },
      "execution_count": null,
      "outputs": []
    },
    {
      "cell_type": "code",
      "source": [
        "df.head()"
      ],
      "metadata": {
        "colab": {
          "base_uri": "https://localhost:8080/",
          "height": 206
        },
        "id": "FnT5fplnt3Vu",
        "outputId": "cf0d9dd5-553e-43e1-8f7b-ec6a1fcaeb47"
      },
      "execution_count": null,
      "outputs": [
        {
          "output_type": "execute_result",
          "data": {
            "text/plain": [
              "                                          clean_text  category\n",
              "0  when modi promised “minimum government maximum...      -1.0\n",
              "1  talk all the nonsense and continue all the dra...       0.0\n",
              "2  what did just say vote for modi  welcome bjp t...       1.0\n",
              "3  asking his supporters prefix chowkidar their n...       1.0\n",
              "4  answer who among these the most powerful world...       1.0"
            ],
            "text/html": [
              "\n",
              "  <div id=\"df-9ce305f4-304e-422f-b6f0-65473e3b3104\" class=\"colab-df-container\">\n",
              "    <div>\n",
              "<style scoped>\n",
              "    .dataframe tbody tr th:only-of-type {\n",
              "        vertical-align: middle;\n",
              "    }\n",
              "\n",
              "    .dataframe tbody tr th {\n",
              "        vertical-align: top;\n",
              "    }\n",
              "\n",
              "    .dataframe thead th {\n",
              "        text-align: right;\n",
              "    }\n",
              "</style>\n",
              "<table border=\"1\" class=\"dataframe\">\n",
              "  <thead>\n",
              "    <tr style=\"text-align: right;\">\n",
              "      <th></th>\n",
              "      <th>clean_text</th>\n",
              "      <th>category</th>\n",
              "    </tr>\n",
              "  </thead>\n",
              "  <tbody>\n",
              "    <tr>\n",
              "      <th>0</th>\n",
              "      <td>when modi promised “minimum government maximum...</td>\n",
              "      <td>-1.0</td>\n",
              "    </tr>\n",
              "    <tr>\n",
              "      <th>1</th>\n",
              "      <td>talk all the nonsense and continue all the dra...</td>\n",
              "      <td>0.0</td>\n",
              "    </tr>\n",
              "    <tr>\n",
              "      <th>2</th>\n",
              "      <td>what did just say vote for modi  welcome bjp t...</td>\n",
              "      <td>1.0</td>\n",
              "    </tr>\n",
              "    <tr>\n",
              "      <th>3</th>\n",
              "      <td>asking his supporters prefix chowkidar their n...</td>\n",
              "      <td>1.0</td>\n",
              "    </tr>\n",
              "    <tr>\n",
              "      <th>4</th>\n",
              "      <td>answer who among these the most powerful world...</td>\n",
              "      <td>1.0</td>\n",
              "    </tr>\n",
              "  </tbody>\n",
              "</table>\n",
              "</div>\n",
              "    <div class=\"colab-df-buttons\">\n",
              "\n",
              "  <div class=\"colab-df-container\">\n",
              "    <button class=\"colab-df-convert\" onclick=\"convertToInteractive('df-9ce305f4-304e-422f-b6f0-65473e3b3104')\"\n",
              "            title=\"Convert this dataframe to an interactive table.\"\n",
              "            style=\"display:none;\">\n",
              "\n",
              "  <svg xmlns=\"http://www.w3.org/2000/svg\" height=\"24px\" viewBox=\"0 -960 960 960\">\n",
              "    <path d=\"M120-120v-720h720v720H120Zm60-500h600v-160H180v160Zm220 220h160v-160H400v160Zm0 220h160v-160H400v160ZM180-400h160v-160H180v160Zm440 0h160v-160H620v160ZM180-180h160v-160H180v160Zm440 0h160v-160H620v160Z\"/>\n",
              "  </svg>\n",
              "    </button>\n",
              "\n",
              "  <style>\n",
              "    .colab-df-container {\n",
              "      display:flex;\n",
              "      gap: 12px;\n",
              "    }\n",
              "\n",
              "    .colab-df-convert {\n",
              "      background-color: #E8F0FE;\n",
              "      border: none;\n",
              "      border-radius: 50%;\n",
              "      cursor: pointer;\n",
              "      display: none;\n",
              "      fill: #1967D2;\n",
              "      height: 32px;\n",
              "      padding: 0 0 0 0;\n",
              "      width: 32px;\n",
              "    }\n",
              "\n",
              "    .colab-df-convert:hover {\n",
              "      background-color: #E2EBFA;\n",
              "      box-shadow: 0px 1px 2px rgba(60, 64, 67, 0.3), 0px 1px 3px 1px rgba(60, 64, 67, 0.15);\n",
              "      fill: #174EA6;\n",
              "    }\n",
              "\n",
              "    .colab-df-buttons div {\n",
              "      margin-bottom: 4px;\n",
              "    }\n",
              "\n",
              "    [theme=dark] .colab-df-convert {\n",
              "      background-color: #3B4455;\n",
              "      fill: #D2E3FC;\n",
              "    }\n",
              "\n",
              "    [theme=dark] .colab-df-convert:hover {\n",
              "      background-color: #434B5C;\n",
              "      box-shadow: 0px 1px 3px 1px rgba(0, 0, 0, 0.15);\n",
              "      filter: drop-shadow(0px 1px 2px rgba(0, 0, 0, 0.3));\n",
              "      fill: #FFFFFF;\n",
              "    }\n",
              "  </style>\n",
              "\n",
              "    <script>\n",
              "      const buttonEl =\n",
              "        document.querySelector('#df-9ce305f4-304e-422f-b6f0-65473e3b3104 button.colab-df-convert');\n",
              "      buttonEl.style.display =\n",
              "        google.colab.kernel.accessAllowed ? 'block' : 'none';\n",
              "\n",
              "      async function convertToInteractive(key) {\n",
              "        const element = document.querySelector('#df-9ce305f4-304e-422f-b6f0-65473e3b3104');\n",
              "        const dataTable =\n",
              "          await google.colab.kernel.invokeFunction('convertToInteractive',\n",
              "                                                    [key], {});\n",
              "        if (!dataTable) return;\n",
              "\n",
              "        const docLinkHtml = 'Like what you see? Visit the ' +\n",
              "          '<a target=\"_blank\" href=https://colab.research.google.com/notebooks/data_table.ipynb>data table notebook</a>'\n",
              "          + ' to learn more about interactive tables.';\n",
              "        element.innerHTML = '';\n",
              "        dataTable['output_type'] = 'display_data';\n",
              "        await google.colab.output.renderOutput(dataTable, element);\n",
              "        const docLink = document.createElement('div');\n",
              "        docLink.innerHTML = docLinkHtml;\n",
              "        element.appendChild(docLink);\n",
              "      }\n",
              "    </script>\n",
              "  </div>\n",
              "\n",
              "\n",
              "<div id=\"df-32b1e2a3-19b7-4baa-87df-871cc338e02f\">\n",
              "  <button class=\"colab-df-quickchart\" onclick=\"quickchart('df-32b1e2a3-19b7-4baa-87df-871cc338e02f')\"\n",
              "            title=\"Suggest charts\"\n",
              "            style=\"display:none;\">\n",
              "\n",
              "<svg xmlns=\"http://www.w3.org/2000/svg\" height=\"24px\"viewBox=\"0 0 24 24\"\n",
              "     width=\"24px\">\n",
              "    <g>\n",
              "        <path d=\"M19 3H5c-1.1 0-2 .9-2 2v14c0 1.1.9 2 2 2h14c1.1 0 2-.9 2-2V5c0-1.1-.9-2-2-2zM9 17H7v-7h2v7zm4 0h-2V7h2v10zm4 0h-2v-4h2v4z\"/>\n",
              "    </g>\n",
              "</svg>\n",
              "  </button>\n",
              "\n",
              "<style>\n",
              "  .colab-df-quickchart {\n",
              "      --bg-color: #E8F0FE;\n",
              "      --fill-color: #1967D2;\n",
              "      --hover-bg-color: #E2EBFA;\n",
              "      --hover-fill-color: #174EA6;\n",
              "      --disabled-fill-color: #AAA;\n",
              "      --disabled-bg-color: #DDD;\n",
              "  }\n",
              "\n",
              "  [theme=dark] .colab-df-quickchart {\n",
              "      --bg-color: #3B4455;\n",
              "      --fill-color: #D2E3FC;\n",
              "      --hover-bg-color: #434B5C;\n",
              "      --hover-fill-color: #FFFFFF;\n",
              "      --disabled-bg-color: #3B4455;\n",
              "      --disabled-fill-color: #666;\n",
              "  }\n",
              "\n",
              "  .colab-df-quickchart {\n",
              "    background-color: var(--bg-color);\n",
              "    border: none;\n",
              "    border-radius: 50%;\n",
              "    cursor: pointer;\n",
              "    display: none;\n",
              "    fill: var(--fill-color);\n",
              "    height: 32px;\n",
              "    padding: 0;\n",
              "    width: 32px;\n",
              "  }\n",
              "\n",
              "  .colab-df-quickchart:hover {\n",
              "    background-color: var(--hover-bg-color);\n",
              "    box-shadow: 0 1px 2px rgba(60, 64, 67, 0.3), 0 1px 3px 1px rgba(60, 64, 67, 0.15);\n",
              "    fill: var(--button-hover-fill-color);\n",
              "  }\n",
              "\n",
              "  .colab-df-quickchart-complete:disabled,\n",
              "  .colab-df-quickchart-complete:disabled:hover {\n",
              "    background-color: var(--disabled-bg-color);\n",
              "    fill: var(--disabled-fill-color);\n",
              "    box-shadow: none;\n",
              "  }\n",
              "\n",
              "  .colab-df-spinner {\n",
              "    border: 2px solid var(--fill-color);\n",
              "    border-color: transparent;\n",
              "    border-bottom-color: var(--fill-color);\n",
              "    animation:\n",
              "      spin 1s steps(1) infinite;\n",
              "  }\n",
              "\n",
              "  @keyframes spin {\n",
              "    0% {\n",
              "      border-color: transparent;\n",
              "      border-bottom-color: var(--fill-color);\n",
              "      border-left-color: var(--fill-color);\n",
              "    }\n",
              "    20% {\n",
              "      border-color: transparent;\n",
              "      border-left-color: var(--fill-color);\n",
              "      border-top-color: var(--fill-color);\n",
              "    }\n",
              "    30% {\n",
              "      border-color: transparent;\n",
              "      border-left-color: var(--fill-color);\n",
              "      border-top-color: var(--fill-color);\n",
              "      border-right-color: var(--fill-color);\n",
              "    }\n",
              "    40% {\n",
              "      border-color: transparent;\n",
              "      border-right-color: var(--fill-color);\n",
              "      border-top-color: var(--fill-color);\n",
              "    }\n",
              "    60% {\n",
              "      border-color: transparent;\n",
              "      border-right-color: var(--fill-color);\n",
              "    }\n",
              "    80% {\n",
              "      border-color: transparent;\n",
              "      border-right-color: var(--fill-color);\n",
              "      border-bottom-color: var(--fill-color);\n",
              "    }\n",
              "    90% {\n",
              "      border-color: transparent;\n",
              "      border-bottom-color: var(--fill-color);\n",
              "    }\n",
              "  }\n",
              "</style>\n",
              "\n",
              "  <script>\n",
              "    async function quickchart(key) {\n",
              "      const quickchartButtonEl =\n",
              "        document.querySelector('#' + key + ' button');\n",
              "      quickchartButtonEl.disabled = true;  // To prevent multiple clicks.\n",
              "      quickchartButtonEl.classList.add('colab-df-spinner');\n",
              "      try {\n",
              "        const charts = await google.colab.kernel.invokeFunction(\n",
              "            'suggestCharts', [key], {});\n",
              "      } catch (error) {\n",
              "        console.error('Error during call to suggestCharts:', error);\n",
              "      }\n",
              "      quickchartButtonEl.classList.remove('colab-df-spinner');\n",
              "      quickchartButtonEl.classList.add('colab-df-quickchart-complete');\n",
              "    }\n",
              "    (() => {\n",
              "      let quickchartButtonEl =\n",
              "        document.querySelector('#df-32b1e2a3-19b7-4baa-87df-871cc338e02f button');\n",
              "      quickchartButtonEl.style.display =\n",
              "        google.colab.kernel.accessAllowed ? 'block' : 'none';\n",
              "    })();\n",
              "  </script>\n",
              "</div>\n",
              "    </div>\n",
              "  </div>\n"
            ]
          },
          "metadata": {},
          "execution_count": 4
        }
      ]
    },
    {
      "cell_type": "markdown",
      "source": [
        "Quitamos las filas con valores nulos y quitamos 130000 datos ya que google collab arroja error por la memoria"
      ],
      "metadata": {
        "id": "zv8hOZw7u9DT"
      }
    },
    {
      "cell_type": "code",
      "source": [
        "df = df.dropna()\n",
        "df = df.iloc[:-130000]"
      ],
      "metadata": {
        "id": "SOEM41Lvh0xI"
      },
      "execution_count": null,
      "outputs": []
    },
    {
      "cell_type": "code",
      "source": [
        "nulos_por_columna = df.isnull().sum()\n",
        "\n",
        "print(nulos_por_columna)"
      ],
      "metadata": {
        "colab": {
          "base_uri": "https://localhost:8080/"
        },
        "id": "e5rps6hlhp-V",
        "outputId": "70831ba2-a395-447c-b13d-023af22ec729"
      },
      "execution_count": null,
      "outputs": [
        {
          "output_type": "stream",
          "name": "stdout",
          "text": [
            "clean_text    0\n",
            "category      0\n",
            "dtype: int64\n"
          ]
        }
      ]
    },
    {
      "cell_type": "markdown",
      "source": [
        "Inicialización del label encoder y transformación de los datos para que puedan ser utilizados por el modelo"
      ],
      "metadata": {
        "id": "PQt5weGIvIlS"
      }
    },
    {
      "cell_type": "code",
      "source": [
        "label_encoder = LabelEncoder()"
      ],
      "metadata": {
        "id": "rSLKw5qBqAwp"
      },
      "execution_count": null,
      "outputs": []
    },
    {
      "cell_type": "code",
      "source": [
        "df['category_encoded'] = label_encoder.fit_transform(df['category'])"
      ],
      "metadata": {
        "id": "vAHfoWbAr5Ro"
      },
      "execution_count": null,
      "outputs": []
    },
    {
      "cell_type": "markdown",
      "source": [
        "Separación de los datos en entrenamiento, validación y testing"
      ],
      "metadata": {
        "id": "cRB6KMYZvRmr"
      }
    },
    {
      "cell_type": "code",
      "source": [
        "train_df, temp_df = train_test_split(df, test_size=0.3, random_state=42)\n",
        "val_df, test_df = train_test_split(temp_df, test_size=0.5, random_state=42)"
      ],
      "metadata": {
        "id": "1nR15_SliCIp"
      },
      "execution_count": null,
      "outputs": []
    },
    {
      "cell_type": "markdown",
      "source": [
        "Vectorización de los textos en los diferentes conjuntos y conversión a matrices para su posterior conversión a tensores de pytorch para su uso en el modelo"
      ],
      "metadata": {
        "id": "vhtipP-LveyO"
      }
    },
    {
      "cell_type": "code",
      "source": [
        "vectorizer = make_pipeline(CountVectorizer(), TfidfTransformer())\n",
        "X_train = vectorizer.fit_transform(train_df['clean_text']).toarray()\n",
        "X_val = vectorizer.transform(val_df['clean_text']).toarray()\n",
        "X_test = vectorizer.transform(test_df['clean_text']).toarray()"
      ],
      "metadata": {
        "id": "rbt6fafMPt0W"
      },
      "execution_count": null,
      "outputs": []
    },
    {
      "cell_type": "code",
      "source": [
        "X_train_tensor = torch.tensor(X_train, dtype=torch.float32)\n",
        "X_val_tensor = torch.tensor(X_val, dtype=torch.float32)\n",
        "X_test_tensor = torch.tensor(X_test, dtype=torch.float32)\n",
        "y_train_tensor = torch.tensor(train_df['category_encoded'].values, dtype=torch.long)\n",
        "y_val_tensor = torch.tensor(val_df['category_encoded'].values, dtype=torch.long)\n",
        "y_test_tensor = torch.tensor(test_df['category_encoded'].values, dtype=torch.long)\n"
      ],
      "metadata": {
        "id": "WvnGrMhVPwAY"
      },
      "execution_count": null,
      "outputs": []
    },
    {
      "cell_type": "markdown",
      "source": [
        "Creación de los conjuntos de datos y dataloaders, se establece el tamaño de los lotes en 32, se cambiaran aleatoriamente las muestras de cada época en el conjunto de entrenamiento"
      ],
      "metadata": {
        "id": "OA-H4ZppwPVe"
      }
    },
    {
      "cell_type": "code",
      "source": [
        "batch_size = 32\n",
        "train_dataset = TensorDataset(X_train_tensor, y_train_tensor)\n",
        "val_dataset = TensorDataset(X_val_tensor, y_val_tensor)\n",
        "test_dataset = TensorDataset(X_test_tensor, y_test_tensor)\n",
        "\n",
        "train_loader = DataLoader(train_dataset, batch_size=batch_size, shuffle=True)\n",
        "val_loader = DataLoader(val_dataset, batch_size=batch_size, shuffle=False)\n",
        "test_loader = DataLoader(test_dataset, batch_size=batch_size, shuffle=False)"
      ],
      "metadata": {
        "id": "iK6QZy4hPx-9"
      },
      "execution_count": null,
      "outputs": []
    },
    {
      "cell_type": "markdown",
      "source": [
        "Definición de hiperparametros para el modelo como la cantidad de unidades(neuronas) en la capa oculta, numero de capas de la red así como el numero de clases. También, se define la función de pérdida y la optimización"
      ],
      "metadata": {
        "id": "27A1bBMcw6fh"
      }
    },
    {
      "cell_type": "code",
      "source": [
        "input_size = X_train_tensor.size(1)\n",
        "hidden_size = 64\n",
        "num_layers = 2\n",
        "num_classes = len(df['category_encoded'].unique())\n",
        "model = RNNClassifier(input_size, hidden_size, num_layers, num_classes)\n",
        "criterion = nn.CrossEntropyLoss()\n",
        "optimizer = optim.Adam(model.parameters(), lr=0.001)"
      ],
      "metadata": {
        "id": "WZKh6yBUP0QG"
      },
      "execution_count": null,
      "outputs": []
    },
    {
      "cell_type": "markdown",
      "source": [
        "Creación del scheduler con la función ReduceLRonPlateau que ajustará la tasa de aprendizaje después de 5 épocas donde no haya mejora, la reducirá multiplicandola por 0.1. Poteriormente, se hace el entrenamiento del modelo con 10 épocas"
      ],
      "metadata": {
        "id": "BMd6rEfuySTw"
      }
    },
    {
      "cell_type": "code",
      "source": [
        "scheduler = torch.optim.lr_scheduler.ReduceLROnPlateau(optimizer, mode='min', patience=5, factor=0.1, verbose=True)\n",
        "train_losses, val_losses, train_accuracies, val_accuracies = train_rnn(model, train_loader, val_loader, criterion, optimizer, scheduler, num_epochs=10)"
      ],
      "metadata": {
        "colab": {
          "base_uri": "https://localhost:8080/",
          "height": 1000
        },
        "id": "SOEb8aXvTCAQ",
        "outputId": "7690ae0e-feab-4d1c-85c5-7ead7e0e1b4c"
      },
      "execution_count": null,
      "outputs": [
        {
          "output_type": "stream",
          "name": "stderr",
          "text": [
            "Epoch 1/10 (Training): 100%|██████████| 722/722 [03:48<00:00,  3.16it/s]\n"
          ]
        },
        {
          "output_type": "stream",
          "name": "stdout",
          "text": [
            "Training Loss: 0.8260627099805592, Training Accuracy: 0.6046\n"
          ]
        },
        {
          "output_type": "stream",
          "name": "stderr",
          "text": [
            "Epoch 1/10 (Validation): 100%|██████████| 155/155 [00:09<00:00, 16.49it/s]\n"
          ]
        },
        {
          "output_type": "stream",
          "name": "stdout",
          "text": [
            "Validation Loss: 0.4833510843015486, Validation Accuracy: 0.8202\n"
          ]
        },
        {
          "output_type": "stream",
          "name": "stderr",
          "text": [
            "Epoch 2/10 (Training): 100%|██████████| 722/722 [03:29<00:00,  3.45it/s]\n"
          ]
        },
        {
          "output_type": "stream",
          "name": "stdout",
          "text": [
            "Training Loss: 0.3176228636901547, Training Accuracy: 0.8902\n"
          ]
        },
        {
          "output_type": "stream",
          "name": "stderr",
          "text": [
            "Epoch 2/10 (Validation): 100%|██████████| 155/155 [00:09<00:00, 16.60it/s]\n"
          ]
        },
        {
          "output_type": "stream",
          "name": "stdout",
          "text": [
            "Validation Loss: 0.3882492017361426, Validation Accuracy: 0.8621\n"
          ]
        },
        {
          "output_type": "stream",
          "name": "stderr",
          "text": [
            "Epoch 3/10 (Training): 100%|██████████| 722/722 [03:12<00:00,  3.75it/s]\n"
          ]
        },
        {
          "output_type": "stream",
          "name": "stdout",
          "text": [
            "Training Loss: 0.14525210240809375, Training Accuracy: 0.9539\n"
          ]
        },
        {
          "output_type": "stream",
          "name": "stderr",
          "text": [
            "Epoch 3/10 (Validation): 100%|██████████| 155/155 [00:09<00:00, 16.48it/s]\n"
          ]
        },
        {
          "output_type": "stream",
          "name": "stdout",
          "text": [
            "Validation Loss: 0.42067400760227636, Validation Accuracy: 0.8617\n"
          ]
        },
        {
          "output_type": "stream",
          "name": "stderr",
          "text": [
            "Epoch 4/10 (Training): 100%|██████████| 722/722 [03:02<00:00,  3.95it/s]\n"
          ]
        },
        {
          "output_type": "stream",
          "name": "stdout",
          "text": [
            "Training Loss: 0.07954359017883317, Training Accuracy: 0.9776\n"
          ]
        },
        {
          "output_type": "stream",
          "name": "stderr",
          "text": [
            "Epoch 4/10 (Validation): 100%|██████████| 155/155 [00:09<00:00, 16.75it/s]\n"
          ]
        },
        {
          "output_type": "stream",
          "name": "stdout",
          "text": [
            "Validation Loss: 0.4657575278512893, Validation Accuracy: 0.8534\n"
          ]
        },
        {
          "output_type": "stream",
          "name": "stderr",
          "text": [
            "Epoch 5/10 (Training): 100%|██████████| 722/722 [03:04<00:00,  3.91it/s]\n"
          ]
        },
        {
          "output_type": "stream",
          "name": "stdout",
          "text": [
            "Training Loss: 0.05456656346486499, Training Accuracy: 0.9846\n"
          ]
        },
        {
          "output_type": "stream",
          "name": "stderr",
          "text": [
            "Epoch 5/10 (Validation): 100%|██████████| 155/155 [00:09<00:00, 16.54it/s]\n"
          ]
        },
        {
          "output_type": "stream",
          "name": "stdout",
          "text": [
            "Validation Loss: 0.5365662134462788, Validation Accuracy: 0.8508\n"
          ]
        },
        {
          "output_type": "stream",
          "name": "stderr",
          "text": [
            "Epoch 6/10 (Training): 100%|██████████| 722/722 [02:56<00:00,  4.08it/s]\n"
          ]
        },
        {
          "output_type": "stream",
          "name": "stdout",
          "text": [
            "Training Loss: 0.03585991097578374, Training Accuracy: 0.9902\n"
          ]
        },
        {
          "output_type": "stream",
          "name": "stderr",
          "text": [
            "Epoch 6/10 (Validation): 100%|██████████| 155/155 [00:09<00:00, 16.74it/s]\n"
          ]
        },
        {
          "output_type": "stream",
          "name": "stdout",
          "text": [
            "Validation Loss: 0.6048805213743641, Validation Accuracy: 0.8534\n"
          ]
        },
        {
          "output_type": "stream",
          "name": "stderr",
          "text": [
            "Epoch 7/10 (Training): 100%|██████████| 722/722 [02:55<00:00,  4.11it/s]\n"
          ]
        },
        {
          "output_type": "stream",
          "name": "stdout",
          "text": [
            "Training Loss: 0.02747707097523114, Training Accuracy: 0.9916\n"
          ]
        },
        {
          "output_type": "stream",
          "name": "stderr",
          "text": [
            "Epoch 7/10 (Validation): 100%|██████████| 155/155 [00:09<00:00, 16.67it/s]\n"
          ]
        },
        {
          "output_type": "stream",
          "name": "stdout",
          "text": [
            "Validation Loss: 0.619121493543348, Validation Accuracy: 0.8477\n"
          ]
        },
        {
          "output_type": "stream",
          "name": "stderr",
          "text": [
            "Epoch 8/10 (Training): 100%|██████████| 722/722 [02:55<00:00,  4.12it/s]\n"
          ]
        },
        {
          "output_type": "stream",
          "name": "stdout",
          "text": [
            "Training Loss: 0.022270294886952785, Training Accuracy: 0.9929\n"
          ]
        },
        {
          "output_type": "stream",
          "name": "stderr",
          "text": [
            "Epoch 8/10 (Validation): 100%|██████████| 155/155 [00:09<00:00, 16.79it/s]\n"
          ]
        },
        {
          "output_type": "stream",
          "name": "stdout",
          "text": [
            "Validation Loss: 0.7102635888322707, Validation Accuracy: 0.8473\n",
            "Epoch 00008: reducing learning rate of group 0 to 1.0000e-04.\n"
          ]
        },
        {
          "output_type": "stream",
          "name": "stderr",
          "text": [
            "Epoch 9/10 (Training): 100%|██████████| 722/722 [02:56<00:00,  4.10it/s]\n"
          ]
        },
        {
          "output_type": "stream",
          "name": "stdout",
          "text": [
            "Training Loss: 0.013373940134137974, Training Accuracy: 0.9964\n"
          ]
        },
        {
          "output_type": "stream",
          "name": "stderr",
          "text": [
            "Epoch 9/10 (Validation): 100%|██████████| 155/155 [00:09<00:00, 16.68it/s]\n"
          ]
        },
        {
          "output_type": "stream",
          "name": "stdout",
          "text": [
            "Validation Loss: 0.7171791581376906, Validation Accuracy: 0.8491\n"
          ]
        },
        {
          "output_type": "stream",
          "name": "stderr",
          "text": [
            "Epoch 10/10 (Training): 100%|██████████| 722/722 [02:53<00:00,  4.16it/s]\n"
          ]
        },
        {
          "output_type": "stream",
          "name": "stdout",
          "text": [
            "Training Loss: 0.011659015063714404, Training Accuracy: 0.9964\n"
          ]
        },
        {
          "output_type": "stream",
          "name": "stderr",
          "text": [
            "Epoch 10/10 (Validation): 100%|██████████| 155/155 [00:09<00:00, 16.61it/s]\n"
          ]
        },
        {
          "output_type": "stream",
          "name": "stdout",
          "text": [
            "Validation Loss: 0.7351644842855392, Validation Accuracy: 0.8477\n"
          ]
        },
        {
          "output_type": "display_data",
          "data": {
            "text/plain": [
              "<Figure size 1200x600 with 2 Axes>"
            ],
            "image/png": "[encoded data removed]"
          },
          "metadata": {}
        }
      ]
    },
    {
      "cell_type": "markdown",
      "source": [
        "Con las gráficas podemos observar que el modelo parece estar overfitting ya que la pérdida en el conjunto de validación va en aumento mientras la prescisión va disminuyendo ligeramente"
      ],
      "metadata": {
        "id": "ceCQrTnYyrLG"
      }
    },
    {
      "cell_type": "markdown",
      "source": [
        "Prueba con los datos de testing"
      ],
      "metadata": {
        "id": "_i9D9B7KzFdw"
      }
    },
    {
      "cell_type": "code",
      "source": [
        "model.eval()\n",
        "test_preds = []\n",
        "test_labels = []\n",
        "\n",
        "with torch.no_grad():\n",
        "    for test_inputs, test_labels_batch in tqdm(test_loader, desc='Final Evaluation'):\n",
        "        # Redimensiona los datos para agregar la dimensión de la secuencia\n",
        "        sequence_length = test_inputs.size(1) // input_size\n",
        "        test_inputs = test_inputs.view(test_inputs.size(0), sequence_length, input_size)\n",
        "\n",
        "        test_outputs = model(test_inputs)\n",
        "        preds = torch.argmax(test_outputs, dim=1).cpu().numpy()\n",
        "        test_preds.extend(preds.tolist())\n",
        "        test_labels.extend(test_labels_batch.cpu().numpy().tolist())\n",
        "\n",
        "# Calcular la precisión usando NumPy\n",
        "test_accuracy = accuracy_score(test_labels, test_preds)\n",
        "print(f'Final Test Accuracy: {test_accuracy:.4f}')"
      ],
      "metadata": {
        "id": "WaUFdXmtP2U1",
        "colab": {
          "base_uri": "https://localhost:8080/"
        },
        "outputId": "08a357e2-f9f1-490c-e763-e046d7759ac5"
      },
      "execution_count": null,
      "outputs": [
        {
          "output_type": "stream",
          "name": "stderr",
          "text": [
            "Final Evaluation: 100%|██████████| 155/155 [00:09<00:00, 16.16it/s]"
          ]
        },
        {
          "output_type": "stream",
          "name": "stdout",
          "text": [
            "Final Test Accuracy: 0.8423\n"
          ]
        },
        {
          "output_type": "stream",
          "name": "stderr",
          "text": [
            "\n"
          ]
        }
      ]
    },
    {
      "cell_type": "markdown",
      "source": [
        "Debido a la precisión que hay en el conjunto de validación decido ver los datos para identificar alguna anomalía en los datos"
      ],
      "metadata": {
        "id": "rORIK_cvzMHS"
      }
    },
    {
      "cell_type": "code",
      "source": [
        "df = pd.read_csv('Twitter_Data.csv')\n",
        "df = df.dropna()"
      ],
      "metadata": {
        "id": "Tb2fkjIpHruU"
      },
      "execution_count": 6,
      "outputs": []
    },
    {
      "cell_type": "code",
      "source": [
        "count_by_category = df['category'].value_counts()\n",
        "print(count_by_category)"
      ],
      "metadata": {
        "colab": {
          "base_uri": "https://localhost:8080/"
        },
        "id": "6VFix2kSHv4F",
        "outputId": "499d5d44-34a8-4fa9-a3ca-d5f72c9e46c8"
      },
      "execution_count": 7,
      "outputs": [
        {
          "output_type": "stream",
          "name": "stdout",
          "text": [
            " 1.0    72249\n",
            " 0.0    55211\n",
            "-1.0    35509\n",
            "Name: category, dtype: int64\n"
          ]
        }
      ]
    },
    {
      "cell_type": "markdown",
      "source": [
        "Como podemos observar los datos están muy desbalanceados, teniendo practicamente el doble de tweets positivos que negativos"
      ],
      "metadata": {
        "id": "Srqd7JdCzXQf"
      }
    },
    {
      "cell_type": "code",
      "source": [
        "indices = df[df['category'] == 1.0].head(62000).index\n",
        "df.drop(indices, inplace=True)\n",
        "indices = df[df['category'] == 0.0].head(45000).index\n",
        "df.drop(indices, inplace=True)\n",
        "indices = df[df['category'] == -1.0].head(25000).index\n",
        "df.drop(indices, inplace=True)"
      ],
      "metadata": {
        "id": "O2JwodjDIrgg"
      },
      "execution_count": 8,
      "outputs": []
    },
    {
      "cell_type": "code",
      "source": [
        "count_by_category = df['category'].value_counts()\n",
        "print(count_by_category)"
      ],
      "metadata": {
        "colab": {
          "base_uri": "https://localhost:8080/"
        },
        "id": "yQKC-ItXJQsR",
        "outputId": "5ec44a64-1384-45a1-8dc0-0179eb1417bd"
      },
      "execution_count": 9,
      "outputs": [
        {
          "output_type": "stream",
          "name": "stdout",
          "text": [
            "-1.0    10509\n",
            " 1.0    10249\n",
            " 0.0    10211\n",
            "Name: category, dtype: int64\n"
          ]
        }
      ]
    },
    {
      "cell_type": "markdown",
      "source": [
        "Dejo el dataset con alrededor de 10 mil tweets para cada categoría"
      ],
      "metadata": {
        "id": "q2gRbatvzjel"
      }
    },
    {
      "cell_type": "markdown",
      "source": [
        "Repito el proceso de adaptación de los datos"
      ],
      "metadata": {
        "id": "A0J1noVTzqTK"
      }
    },
    {
      "cell_type": "code",
      "source": [
        "label_encoder = LabelEncoder()\n",
        "df['category_encoded'] = label_encoder.fit_transform(df['category'])"
      ],
      "metadata": {
        "id": "Px9wV9RlHme0"
      },
      "execution_count": 10,
      "outputs": []
    },
    {
      "cell_type": "code",
      "source": [
        "train_df, temp_df = train_test_split(df, test_size=0.3, random_state=42)\n",
        "val_df, test_df = train_test_split(temp_df, test_size=0.5, random_state=42)"
      ],
      "metadata": {
        "id": "ys59sp9y-7us"
      },
      "execution_count": 11,
      "outputs": []
    },
    {
      "cell_type": "code",
      "source": [
        "vectorizer = make_pipeline(CountVectorizer(), TfidfTransformer())\n",
        "X_train = vectorizer.fit_transform(train_df['clean_text']).toarray()\n",
        "X_val = vectorizer.transform(val_df['clean_text']).toarray()\n",
        "X_test = vectorizer.transform(test_df['clean_text']).toarray()"
      ],
      "metadata": {
        "id": "7vACtLYCJ44D"
      },
      "execution_count": 12,
      "outputs": []
    },
    {
      "cell_type": "code",
      "source": [
        "X_train_tensor = torch.tensor(X_train, dtype=torch.float32)\n",
        "X_val_tensor = torch.tensor(X_val, dtype=torch.float32)\n",
        "X_test_tensor = torch.tensor(X_test, dtype=torch.float32)\n",
        "y_train_tensor = torch.tensor(train_df['category_encoded'].values, dtype=torch.long)\n",
        "y_val_tensor = torch.tensor(val_df['category_encoded'].values, dtype=torch.long)\n",
        "y_test_tensor = torch.tensor(test_df['category_encoded'].values, dtype=torch.long)"
      ],
      "metadata": {
        "id": "pvRebfGaJ9dC"
      },
      "execution_count": 13,
      "outputs": []
    },
    {
      "cell_type": "code",
      "source": [
        "batch_size = 32\n",
        "train_dataset = TensorDataset(X_train_tensor, y_train_tensor)\n",
        "val_dataset = TensorDataset(X_val_tensor, y_val_tensor)\n",
        "test_dataset = TensorDataset(X_test_tensor, y_test_tensor)\n",
        "\n",
        "train_loader = DataLoader(train_dataset, batch_size=batch_size, shuffle=True)\n",
        "val_loader = DataLoader(val_dataset, batch_size=batch_size, shuffle=False)\n",
        "test_loader = DataLoader(test_dataset, batch_size=batch_size, shuffle=False)"
      ],
      "metadata": {
        "id": "uZPftKuAKBcZ"
      },
      "execution_count": 14,
      "outputs": []
    },
    {
      "cell_type": "markdown",
      "source": [
        "Hago modificaciones al modelo agregando bidireccionalidad a la capa LSTM lo que hará que el modelo analice la secuencia en ambas direcciones tratando de encontrar patrones. además, agrego otra capa de dropout y aumento en 0.1 la tasa de dropout para prevenir el overfitting que vimos en la primera aproximación"
      ],
      "metadata": {
        "id": "31F8m9CvB74J"
      }
    },
    {
      "cell_type": "code",
      "source": [
        "class RNNClassifier(nn.Module):\n",
        "    def __init__(self, input_size, hidden_size, num_layers, num_classes, dropout_rate=0.6):\n",
        "        super(RNNClassifier, self).__init__()\n",
        "        self.rnn = nn.LSTM(input_size, hidden_size, num_layers, batch_first=True, bidirectional=True, dropout=dropout_rate)\n",
        "        self.dropout1 = nn.Dropout(dropout_rate)\n",
        "        self.fc = nn.Linear(hidden_size * 2, num_classes)\n",
        "        self.dropout2 = nn.Dropout(dropout_rate)\n",
        "\n",
        "    def forward(self, x):\n",
        "        _, (hn, _) = self.rnn(x)\n",
        "        hn = torch.cat((hn[-2, :, :], hn[-1, :, :]), dim=1)  # Concatenar las salidas bidireccionales\n",
        "        hn = self.dropout1(hn)\n",
        "        output = self.fc(hn)\n",
        "        output = self.dropout2(output)\n",
        "        return output\n",
        "\n"
      ],
      "metadata": {
        "id": "PtWI8MJCB-Sp"
      },
      "execution_count": null,
      "outputs": []
    },
    {
      "cell_type": "markdown",
      "source": [
        "Modificamos la función de entrenamiento para añadir un early stopping para detener el entrenamiento cuando se vea una mayor pérdida en la validación"
      ],
      "metadata": {
        "id": "njUANp0B0jf-"
      }
    },
    {
      "cell_type": "code",
      "source": [
        "def train_rnn(model, train_loader, val_loader, criterion, optimizer, scheduler, patience=5, num_epochs=1):\n",
        "    train_losses = []\n",
        "    val_losses = []\n",
        "    train_accuracies = []\n",
        "    val_accuracies = []\n",
        "\n",
        "    best_val_loss = float('inf')\n",
        "    counter = 0\n",
        "\n",
        "    for epoch in range(num_epochs):\n",
        "        model.train()\n",
        "        running_loss = 0.0\n",
        "        all_preds = []\n",
        "        all_labels = []\n",
        "\n",
        "        for inputs, labels in tqdm(train_loader, desc=f'Epoch {epoch + 1}/{num_epochs} (Training)'):\n",
        "            optimizer.zero_grad()\n",
        "\n",
        "            sequence_length = inputs.size(1) // input_size\n",
        "            inputs = inputs.view(inputs.size(0), sequence_length, input_size)\n",
        "\n",
        "            outputs = model(inputs)\n",
        "            loss = criterion(outputs, labels)\n",
        "            loss.backward()\n",
        "            optimizer.step()\n",
        "            running_loss += loss.item()\n",
        "\n",
        "            preds = torch.argmax(outputs, dim=1).cpu().numpy()\n",
        "            all_preds.extend(preds)\n",
        "            all_labels.extend(labels.cpu().numpy())\n",
        "\n",
        "        avg_train_loss = running_loss / len(train_loader)\n",
        "        train_losses.append(avg_train_loss)\n",
        "\n",
        "        train_accuracy = accuracy_score(all_labels, all_preds)\n",
        "        train_accuracies.append(train_accuracy)\n",
        "\n",
        "        print(f'Training Loss: {avg_train_loss}, Training Accuracy: {train_accuracy:.4f}')\n",
        "\n",
        "        model.eval()\n",
        "        val_loss = 0.0\n",
        "        all_preds = []\n",
        "        all_labels = []\n",
        "\n",
        "        with torch.no_grad():\n",
        "            for val_inputs, val_labels in tqdm(val_loader, desc=f'Epoch {epoch + 1}/{num_epochs} (Validation)'):\n",
        "                sequence_length = val_inputs.size(1) // input_size\n",
        "                val_inputs = val_inputs.view(val_inputs.size(0), sequence_length, input_size)\n",
        "\n",
        "                val_outputs = model(val_inputs)\n",
        "                val_loss += criterion(val_outputs, val_labels).item()\n",
        "\n",
        "                preds = torch.argmax(val_outputs, dim=1).cpu().numpy()\n",
        "                all_preds.extend(preds)\n",
        "                all_labels.extend(val_labels.cpu().numpy())\n",
        "\n",
        "            avg_val_loss = val_loss / len(val_loader)\n",
        "            val_losses.append(avg_val_loss)\n",
        "\n",
        "            val_accuracy = accuracy_score(all_labels, all_preds)\n",
        "            val_accuracies.append(val_accuracy)\n",
        "\n",
        "            print(f'Validation Loss: {avg_val_loss}, Validation Accuracy: {val_accuracy:.4f}')\n",
        "\n",
        "        scheduler.step(avg_val_loss)\n",
        "        if avg_val_loss < best_val_loss:\n",
        "            best_val_loss = avg_val_loss\n",
        "            counter = 0\n",
        "        else:\n",
        "            counter += 1\n",
        "\n",
        "        if counter >= patience:\n",
        "            num_epochs = epoch + 1\n",
        "            print(f'Early stopping at epoch {epoch + 1}')\n",
        "            break\n",
        "\n",
        "    plt.figure(figsize=(12, 6))\n",
        "\n",
        "    plt.subplot(1, 2, 1)\n",
        "    plt.plot(range(1, num_epochs + 1), train_losses, label='Training Loss')\n",
        "    plt.plot(range(1, num_epochs + 1), val_losses, label='Validation Loss')\n",
        "    plt.xlabel('Epoch')\n",
        "    plt.ylabel('Loss')\n",
        "    plt.title('Training and Validation Loss Over Epochs')\n",
        "    plt.legend()\n",
        "\n",
        "    plt.subplot(1, 2, 2)\n",
        "    plt.plot(range(1, num_epochs + 1), train_accuracies, label='Training Accuracy')\n",
        "    plt.plot(range(1, num_epochs + 1), val_accuracies, label='Validation Accuracy')\n",
        "    plt.xlabel('Epoch')\n",
        "    plt.ylabel('Accuracy')\n",
        "    plt.title('Training and Validation Accuracy Over Epochs')\n",
        "    plt.legend()\n",
        "\n",
        "    plt.tight_layout()\n",
        "    plt.show()\n",
        "\n",
        "    return train_losses, val_losses, train_accuracies, val_accuracies"
      ],
      "metadata": {
        "id": "9U6pmT2UG2d8"
      },
      "execution_count": 25,
      "outputs": []
    },
    {
      "cell_type": "markdown",
      "source": [
        "Para este segundo modelo hacemos shuffle también en los datos de validación como habíamos hecho anteriormente con los de entrenamiento"
      ],
      "metadata": {
        "id": "jTyAcqWV1c0R"
      }
    },
    {
      "cell_type": "code",
      "source": [
        "val_loader = DataLoader(val_dataset, batch_size=batch_size, shuffle=True)"
      ],
      "metadata": {
        "id": "GXkfMYqxCekz"
      },
      "execution_count": 18,
      "outputs": []
    },
    {
      "cell_type": "code",
      "source": [
        "input_size = X_train_tensor.size(1)\n",
        "hidden_size = 64\n",
        "num_layers = 2\n",
        "num_classes = len(df['category_encoded'].unique())"
      ],
      "metadata": {
        "id": "bl6LzqPYKZqU"
      },
      "execution_count": 19,
      "outputs": []
    },
    {
      "cell_type": "code",
      "source": [
        "model = RNNClassifier(input_size, hidden_size, num_layers, num_classes)"
      ],
      "metadata": {
        "id": "-wwHF4OFEyyp"
      },
      "execution_count": 20,
      "outputs": []
    },
    {
      "cell_type": "code",
      "source": [
        "criterion = nn.CrossEntropyLoss()\n",
        "optimizer = optim.Adam(model.parameters(), lr=0.001)\n",
        "scheduler = torch.optim.lr_scheduler.ReduceLROnPlateau(optimizer, mode='min', patience=5, factor=0.1, verbose=True)"
      ],
      "metadata": {
        "id": "_S_IcghhIZyz"
      },
      "execution_count": 21,
      "outputs": []
    },
    {
      "cell_type": "markdown",
      "source": [
        "Se realiza el entrenamiento del nuevo modelo"
      ],
      "metadata": {
        "id": "qJkZfeK31EJx"
      }
    },
    {
      "cell_type": "code",
      "source": [
        "train_losses, val_losses, train_accuracies, val_accuracies = train_rnn(model, train_loader, val_loader, criterion, optimizer, scheduler, num_epochs=100)"
      ],
      "metadata": {
        "id": "EB4tgBD9B7ax",
        "colab": {
          "base_uri": "https://localhost:8080/",
          "height": 1000
        },
        "outputId": "00e10993-8e14-43cf-d59b-fa305ef0b391"
      },
      "execution_count": null,
      "outputs": [
        {
          "output_type": "stream",
          "name": "stderr",
          "text": [
            "Epoch 1/100 (Training): 100%|██████████| 678/678 [03:11<00:00,  3.54it/s]\n"
          ]
        },
        {
          "output_type": "stream",
          "name": "stdout",
          "text": [
            "Training Loss: 1.0405879592121878, Training Accuracy: 0.4210\n"
          ]
        },
        {
          "output_type": "stream",
          "name": "stderr",
          "text": [
            "Epoch 1/100 (Validation): 100%|██████████| 146/146 [00:08<00:00, 17.50it/s]\n"
          ]
        },
        {
          "output_type": "stream",
          "name": "stdout",
          "text": [
            "Validation Loss: 0.7781827568191372, Validation Accuracy: 0.7145\n"
          ]
        },
        {
          "output_type": "stream",
          "name": "stderr",
          "text": [
            "Epoch 2/100 (Training): 100%|██████████| 678/678 [03:06<00:00,  3.64it/s]\n"
          ]
        },
        {
          "output_type": "stream",
          "name": "stdout",
          "text": [
            "Training Loss: 0.8008036840278491, Training Accuracy: 0.5829\n"
          ]
        },
        {
          "output_type": "stream",
          "name": "stderr",
          "text": [
            "Epoch 2/100 (Validation): 100%|██████████| 146/146 [00:08<00:00, 17.88it/s]\n"
          ]
        },
        {
          "output_type": "stream",
          "name": "stdout",
          "text": [
            "Validation Loss: 0.5422624223036309, Validation Accuracy: 0.8157\n"
          ]
        },
        {
          "output_type": "stream",
          "name": "stderr",
          "text": [
            "Epoch 3/100 (Training): 100%|██████████| 678/678 [02:51<00:00,  3.96it/s]\n"
          ]
        },
        {
          "output_type": "stream",
          "name": "stdout",
          "text": [
            "Training Loss: 0.6708337127019522, Training Accuracy: 0.6401\n"
          ]
        },
        {
          "output_type": "stream",
          "name": "stderr",
          "text": [
            "Epoch 3/100 (Validation): 100%|██████████| 146/146 [00:08<00:00, 17.90it/s]\n"
          ]
        },
        {
          "output_type": "stream",
          "name": "stdout",
          "text": [
            "Validation Loss: 0.46265217641445056, Validation Accuracy: 0.8375\n"
          ]
        },
        {
          "output_type": "stream",
          "name": "stderr",
          "text": [
            "Epoch 4/100 (Training): 100%|██████████| 678/678 [02:42<00:00,  4.16it/s]\n"
          ]
        },
        {
          "output_type": "stream",
          "name": "stdout",
          "text": [
            "Training Loss: 0.6035828790833465, Training Accuracy: 0.6625\n"
          ]
        },
        {
          "output_type": "stream",
          "name": "stderr",
          "text": [
            "Epoch 4/100 (Validation): 100%|██████████| 146/146 [00:08<00:00, 17.62it/s]\n"
          ]
        },
        {
          "output_type": "stream",
          "name": "stdout",
          "text": [
            "Validation Loss: 0.4382685408608554, Validation Accuracy: 0.8353\n"
          ]
        },
        {
          "output_type": "stream",
          "name": "stderr",
          "text": [
            "Epoch 5/100 (Training): 100%|██████████| 678/678 [02:37<00:00,  4.31it/s]\n"
          ]
        },
        {
          "output_type": "stream",
          "name": "stdout",
          "text": [
            "Training Loss: 0.5611772381186837, Training Accuracy: 0.6774\n"
          ]
        },
        {
          "output_type": "stream",
          "name": "stderr",
          "text": [
            "Epoch 5/100 (Validation): 100%|██████████| 146/146 [00:08<00:00, 17.74it/s]\n"
          ]
        },
        {
          "output_type": "stream",
          "name": "stdout",
          "text": [
            "Validation Loss: 0.41435470886222303, Validation Accuracy: 0.8426\n"
          ]
        },
        {
          "output_type": "stream",
          "name": "stderr",
          "text": [
            "Epoch 6/100 (Training): 100%|██████████| 678/678 [02:32<00:00,  4.44it/s]\n"
          ]
        },
        {
          "output_type": "stream",
          "name": "stdout",
          "text": [
            "Training Loss: 0.5324593150993716, Training Accuracy: 0.6892\n"
          ]
        },
        {
          "output_type": "stream",
          "name": "stderr",
          "text": [
            "Epoch 6/100 (Validation): 100%|██████████| 146/146 [00:08<00:00, 17.59it/s]\n"
          ]
        },
        {
          "output_type": "stream",
          "name": "stdout",
          "text": [
            "Validation Loss: 0.40857992698884993, Validation Accuracy: 0.8456\n"
          ]
        },
        {
          "output_type": "stream",
          "name": "stderr",
          "text": [
            "Epoch 7/100 (Training): 100%|██████████| 678/678 [02:31<00:00,  4.47it/s]\n"
          ]
        },
        {
          "output_type": "stream",
          "name": "stdout",
          "text": [
            "Training Loss: 0.5079203531102093, Training Accuracy: 0.6974\n"
          ]
        },
        {
          "output_type": "stream",
          "name": "stderr",
          "text": [
            "Epoch 7/100 (Validation): 100%|██████████| 146/146 [00:08<00:00, 17.74it/s]\n"
          ]
        },
        {
          "output_type": "stream",
          "name": "stdout",
          "text": [
            "Validation Loss: 0.4080640383779186, Validation Accuracy: 0.8446\n"
          ]
        },
        {
          "output_type": "stream",
          "name": "stderr",
          "text": [
            "Epoch 8/100 (Training): 100%|██████████| 678/678 [02:27<00:00,  4.58it/s]\n"
          ]
        },
        {
          "output_type": "stream",
          "name": "stdout",
          "text": [
            "Training Loss: 0.4985777581423785, Training Accuracy: 0.6973\n"
          ]
        },
        {
          "output_type": "stream",
          "name": "stderr",
          "text": [
            "Epoch 8/100 (Validation): 100%|██████████| 146/146 [00:08<00:00, 17.75it/s]\n"
          ]
        },
        {
          "output_type": "stream",
          "name": "stdout",
          "text": [
            "Validation Loss: 0.41884606413237035, Validation Accuracy: 0.8424\n"
          ]
        },
        {
          "output_type": "stream",
          "name": "stderr",
          "text": [
            "Epoch 9/100 (Training): 100%|██████████| 678/678 [02:25<00:00,  4.68it/s]\n"
          ]
        },
        {
          "output_type": "stream",
          "name": "stdout",
          "text": [
            "Training Loss: 0.49183538958298423, Training Accuracy: 0.7015\n"
          ]
        },
        {
          "output_type": "stream",
          "name": "stderr",
          "text": [
            "Epoch 9/100 (Validation): 100%|██████████| 146/146 [00:08<00:00, 17.85it/s]\n"
          ]
        },
        {
          "output_type": "stream",
          "name": "stdout",
          "text": [
            "Validation Loss: 0.42943380538323156, Validation Accuracy: 0.8448\n"
          ]
        },
        {
          "output_type": "stream",
          "name": "stderr",
          "text": [
            "Epoch 10/100 (Training): 100%|██████████| 678/678 [02:24<00:00,  4.69it/s]\n"
          ]
        },
        {
          "output_type": "stream",
          "name": "stdout",
          "text": [
            "Training Loss: 0.4795647429681457, Training Accuracy: 0.7073\n"
          ]
        },
        {
          "output_type": "stream",
          "name": "stderr",
          "text": [
            "Epoch 10/100 (Validation): 100%|██████████| 146/146 [00:08<00:00, 17.79it/s]\n"
          ]
        },
        {
          "output_type": "stream",
          "name": "stdout",
          "text": [
            "Validation Loss: 0.4415680909248656, Validation Accuracy: 0.8422\n"
          ]
        },
        {
          "output_type": "stream",
          "name": "stderr",
          "text": [
            "Epoch 11/100 (Training): 100%|██████████| 678/678 [02:25<00:00,  4.65it/s]\n"
          ]
        },
        {
          "output_type": "stream",
          "name": "stdout",
          "text": [
            "Training Loss: 0.4737712007048911, Training Accuracy: 0.7065\n"
          ]
        },
        {
          "output_type": "stream",
          "name": "stderr",
          "text": [
            "Epoch 11/100 (Validation): 100%|██████████| 146/146 [00:08<00:00, 18.00it/s]\n"
          ]
        },
        {
          "output_type": "stream",
          "name": "stdout",
          "text": [
            "Validation Loss: 0.4773261112301317, Validation Accuracy: 0.8381\n"
          ]
        },
        {
          "output_type": "stream",
          "name": "stderr",
          "text": [
            "Epoch 12/100 (Training): 100%|██████████| 678/678 [02:24<00:00,  4.70it/s]\n"
          ]
        },
        {
          "output_type": "stream",
          "name": "stdout",
          "text": [
            "Training Loss: 0.47123381787784685, Training Accuracy: 0.7012\n"
          ]
        },
        {
          "output_type": "stream",
          "name": "stderr",
          "text": [
            "Epoch 12/100 (Validation): 100%|██████████| 146/146 [00:08<00:00, 17.89it/s]\n"
          ]
        },
        {
          "output_type": "stream",
          "name": "stdout",
          "text": [
            "Validation Loss: 0.470919425356878, Validation Accuracy: 0.8420\n",
            "Early stopping at epoch 12\n"
          ]
        },
        {
          "output_type": "display_data",
          "data": {
            "text/plain": [
              "<Figure size 1200x600 with 2 Axes>"
            ],
            "image/png": "[encoded data removed]"
          },
          "metadata": {}
        }
      ]
    },
    {
      "cell_type": "markdown",
      "source": [
        "En este nuevo modelo podemos ver un mayor avance en las épocas sin embargo, a partir de la época 8 la pérdida en el conjunto de validación sube bastante"
      ],
      "metadata": {
        "id": "CAGHF91l1LDr"
      }
    },
    {
      "cell_type": "code",
      "source": [
        "model.eval()\n",
        "test_preds = []\n",
        "test_labels = []\n",
        "\n",
        "with torch.no_grad():\n",
        "    for test_inputs, test_labels_batch in tqdm(test_loader, desc='Final Evaluation'):\n",
        "        sequence_length = test_inputs.size(1) // input_size\n",
        "        test_inputs = test_inputs.view(test_inputs.size(0), sequence_length, input_size)\n",
        "\n",
        "        test_outputs = model(test_inputs)\n",
        "        preds = torch.argmax(test_outputs, dim=1).cpu().numpy()\n",
        "        test_preds.extend(preds.tolist())\n",
        "        test_labels.extend(test_labels_batch.cpu().numpy().tolist())\n",
        "\n",
        "test_accuracy = accuracy_score(test_labels, test_preds)\n",
        "print(f'Final Test Accuracy: {test_accuracy:.4f}')"
      ],
      "metadata": {
        "id": "BxvSyKh6J0MJ",
        "colab": {
          "base_uri": "https://localhost:8080/"
        },
        "outputId": "9e727395-68dd-450a-d517-8585e07cea69"
      },
      "execution_count": null,
      "outputs": [
        {
          "output_type": "stream",
          "name": "stderr",
          "text": [
            "Final Evaluation: 100%|██████████| 146/146 [00:08<00:00, 17.57it/s]\n"
          ]
        },
        {
          "output_type": "stream",
          "name": "stdout",
          "text": [
            "Final Test Accuracy: 0.8424\n"
          ]
        }
      ]
    },
    {
      "cell_type": "markdown",
      "source": [
        "Tercer modelo, agregamos una capa de normalización que nos ayudará a regularizar previniendo el sobreajuste y generalizando mejor ya que añade ruido a la activación de cada neurona, bajamos un poco el dropout rate ya que tenemos dos capas de dropout y en el modelo anterior vemos poco accuracy en el entrenamiento"
      ],
      "metadata": {
        "id": "WdVcbPHe12Dt"
      }
    },
    {
      "cell_type": "code",
      "source": [
        "class RNNClassifier(nn.Module):\n",
        "    def __init__(self, input_size, hidden_size, num_layers, num_classes, dropout_rate=0.5):\n",
        "        super(RNNClassifier, self).__init__()\n",
        "        self.rnn = nn.LSTM(input_size, hidden_size, num_layers, batch_first=True, bidirectional=True, dropout=dropout_rate)\n",
        "        self.batch_norm = nn.BatchNorm1d(hidden_size * 2)\n",
        "        self.dropout1 = nn.Dropout(dropout_rate)\n",
        "        self.fc = nn.Linear(hidden_size * 2, num_classes)\n",
        "        self.dropout2 = nn.Dropout(dropout_rate)\n",
        "\n",
        "    def forward(self, x):\n",
        "        _, (hn, _) = self.rnn(x)\n",
        "        hn = torch.cat((hn[-2, :, :], hn[-1, :, :]), dim=1)\n",
        "        hn = self.batch_norm(hn)\n",
        "        hn = self.dropout1(hn)\n",
        "        output = self.fc(hn)\n",
        "        output = self.dropout2(output)\n",
        "        return output"
      ],
      "metadata": {
        "id": "Zc2g0VGHN1LQ"
      },
      "execution_count": 65,
      "outputs": []
    },
    {
      "cell_type": "code",
      "source": [
        "model = RNNClassifier(input_size, hidden_size, num_layers, num_classes)"
      ],
      "metadata": {
        "id": "kaOzbcZ5PLgN"
      },
      "execution_count": 66,
      "outputs": []
    },
    {
      "cell_type": "markdown",
      "source": [
        "Bajamos el learning rate para que el modelo dé \"pasos\" más pequeños y pueda generalizar mejor\n",
        "\n"
      ],
      "metadata": {
        "id": "u4RX5IE52yOB"
      }
    },
    {
      "cell_type": "code",
      "source": [
        "criterion = nn.CrossEntropyLoss()\n",
        "optimizer = optim.Adam(model.parameters(), lr=0.0001)\n",
        "scheduler = torch.optim.lr_scheduler.ReduceLROnPlateau(optimizer, mode='min', patience=5, factor=0.1, verbose=True)\n",
        "train_losses, val_losses, train_accuracies, val_accuracies = train_rnn(model, train_loader, val_loader, criterion, optimizer, scheduler, num_epochs=100)"
      ],
      "metadata": {
        "colab": {
          "base_uri": "https://localhost:8080/",
          "height": 1000
        },
        "id": "zUDv59_nN90t",
        "outputId": "2a532f2d-24c5-4bae-f2c7-7ded789728c3"
      },
      "execution_count": 67,
      "outputs": [
        {
          "output_type": "stream",
          "name": "stderr",
          "text": [
            "Epoch 1/100 (Training): 100%|██████████| 678/678 [03:09<00:00,  3.58it/s]\n"
          ]
        },
        {
          "output_type": "stream",
          "name": "stdout",
          "text": [
            "Training Loss: 1.2880146061248836, Training Accuracy: 0.3456\n"
          ]
        },
        {
          "output_type": "stream",
          "name": "stderr",
          "text": [
            "Epoch 1/100 (Validation): 100%|██████████| 146/146 [00:08<00:00, 17.12it/s]\n"
          ]
        },
        {
          "output_type": "stream",
          "name": "stdout",
          "text": [
            "Validation Loss: 1.0693587383178815, Validation Accuracy: 0.4431\n"
          ]
        },
        {
          "output_type": "stream",
          "name": "stderr",
          "text": [
            "Epoch 2/100 (Training): 100%|██████████| 678/678 [02:34<00:00,  4.38it/s]\n"
          ]
        },
        {
          "output_type": "stream",
          "name": "stdout",
          "text": [
            "Training Loss: 1.1731882204348358, Training Accuracy: 0.3721\n"
          ]
        },
        {
          "output_type": "stream",
          "name": "stderr",
          "text": [
            "Epoch 2/100 (Validation): 100%|██████████| 146/146 [00:08<00:00, 17.16it/s]\n"
          ]
        },
        {
          "output_type": "stream",
          "name": "stdout",
          "text": [
            "Validation Loss: 1.0452560500739372, Validation Accuracy: 0.5119\n"
          ]
        },
        {
          "output_type": "stream",
          "name": "stderr",
          "text": [
            "Epoch 3/100 (Training): 100%|██████████| 678/678 [02:20<00:00,  4.82it/s]\n"
          ]
        },
        {
          "output_type": "stream",
          "name": "stdout",
          "text": [
            "Training Loss: 1.1156580383974541, Training Accuracy: 0.3978\n"
          ]
        },
        {
          "output_type": "stream",
          "name": "stderr",
          "text": [
            "Epoch 3/100 (Validation): 100%|██████████| 146/146 [00:08<00:00, 16.90it/s]\n"
          ]
        },
        {
          "output_type": "stream",
          "name": "stdout",
          "text": [
            "Validation Loss: 1.0116590339027038, Validation Accuracy: 0.5668\n"
          ]
        },
        {
          "output_type": "stream",
          "name": "stderr",
          "text": [
            "Epoch 4/100 (Training): 100%|██████████| 678/678 [02:15<00:00,  5.00it/s]\n"
          ]
        },
        {
          "output_type": "stream",
          "name": "stdout",
          "text": [
            "Training Loss: 1.0746078165934851, Training Accuracy: 0.4249\n"
          ]
        },
        {
          "output_type": "stream",
          "name": "stderr",
          "text": [
            "Epoch 4/100 (Validation): 100%|██████████| 146/146 [00:08<00:00, 17.14it/s]\n"
          ]
        },
        {
          "output_type": "stream",
          "name": "stdout",
          "text": [
            "Validation Loss: 0.9641040690141182, Validation Accuracy: 0.6215\n"
          ]
        },
        {
          "output_type": "stream",
          "name": "stderr",
          "text": [
            "Epoch 5/100 (Training): 100%|██████████| 678/678 [02:11<00:00,  5.17it/s]\n"
          ]
        },
        {
          "output_type": "stream",
          "name": "stdout",
          "text": [
            "Training Loss: 1.0118127429204, Training Accuracy: 0.4734\n"
          ]
        },
        {
          "output_type": "stream",
          "name": "stderr",
          "text": [
            "Epoch 5/100 (Validation): 100%|██████████| 146/146 [00:08<00:00, 17.30it/s]\n"
          ]
        },
        {
          "output_type": "stream",
          "name": "stdout",
          "text": [
            "Validation Loss: 0.898525547491361, Validation Accuracy: 0.6657\n"
          ]
        },
        {
          "output_type": "stream",
          "name": "stderr",
          "text": [
            "Epoch 6/100 (Training): 100%|██████████| 678/678 [02:08<00:00,  5.28it/s]\n"
          ]
        },
        {
          "output_type": "stream",
          "name": "stdout",
          "text": [
            "Training Loss: 0.9478253426805007, Training Accuracy: 0.5174\n"
          ]
        },
        {
          "output_type": "stream",
          "name": "stderr",
          "text": [
            "Epoch 6/100 (Validation): 100%|██████████| 146/146 [00:08<00:00, 16.89it/s]\n"
          ]
        },
        {
          "output_type": "stream",
          "name": "stdout",
          "text": [
            "Validation Loss: 0.8199514228187196, Validation Accuracy: 0.6992\n"
          ]
        },
        {
          "output_type": "stream",
          "name": "stderr",
          "text": [
            "Epoch 7/100 (Training): 100%|██████████| 678/678 [02:06<00:00,  5.35it/s]\n"
          ]
        },
        {
          "output_type": "stream",
          "name": "stdout",
          "text": [
            "Training Loss: 0.8839912379385799, Training Accuracy: 0.5553\n"
          ]
        },
        {
          "output_type": "stream",
          "name": "stderr",
          "text": [
            "Epoch 7/100 (Validation): 100%|██████████| 146/146 [00:08<00:00, 17.02it/s]\n"
          ]
        },
        {
          "output_type": "stream",
          "name": "stdout",
          "text": [
            "Validation Loss: 0.7541153092090398, Validation Accuracy: 0.7214\n"
          ]
        },
        {
          "output_type": "stream",
          "name": "stderr",
          "text": [
            "Epoch 8/100 (Training): 100%|██████████| 678/678 [02:05<00:00,  5.38it/s]\n"
          ]
        },
        {
          "output_type": "stream",
          "name": "stdout",
          "text": [
            "Training Loss: 0.8242203112372958, Training Accuracy: 0.5876\n"
          ]
        },
        {
          "output_type": "stream",
          "name": "stderr",
          "text": [
            "Epoch 8/100 (Validation): 100%|██████████| 146/146 [00:08<00:00, 16.84it/s]\n"
          ]
        },
        {
          "output_type": "stream",
          "name": "stdout",
          "text": [
            "Validation Loss: 0.6900053828546445, Validation Accuracy: 0.7473\n"
          ]
        },
        {
          "output_type": "stream",
          "name": "stderr",
          "text": [
            "Epoch 9/100 (Training): 100%|██████████| 678/678 [02:06<00:00,  5.38it/s]\n"
          ]
        },
        {
          "output_type": "stream",
          "name": "stdout",
          "text": [
            "Training Loss: 0.7752173495503654, Training Accuracy: 0.6138\n"
          ]
        },
        {
          "output_type": "stream",
          "name": "stderr",
          "text": [
            "Epoch 9/100 (Validation): 100%|██████████| 146/146 [00:08<00:00, 16.91it/s]\n"
          ]
        },
        {
          "output_type": "stream",
          "name": "stdout",
          "text": [
            "Validation Loss: 0.6357956634808893, Validation Accuracy: 0.7668\n"
          ]
        },
        {
          "output_type": "stream",
          "name": "stderr",
          "text": [
            "Epoch 10/100 (Training): 100%|██████████| 678/678 [02:05<00:00,  5.40it/s]\n"
          ]
        },
        {
          "output_type": "stream",
          "name": "stdout",
          "text": [
            "Training Loss: 0.7298627813569213, Training Accuracy: 0.6335\n"
          ]
        },
        {
          "output_type": "stream",
          "name": "stderr",
          "text": [
            "Epoch 10/100 (Validation): 100%|██████████| 146/146 [00:08<00:00, 16.95it/s]\n"
          ]
        },
        {
          "output_type": "stream",
          "name": "stdout",
          "text": [
            "Validation Loss: 0.601761493984967, Validation Accuracy: 0.7787\n"
          ]
        },
        {
          "output_type": "stream",
          "name": "stderr",
          "text": [
            "Epoch 11/100 (Training): 100%|██████████| 678/678 [02:05<00:00,  5.39it/s]\n"
          ]
        },
        {
          "output_type": "stream",
          "name": "stdout",
          "text": [
            "Training Loss: 0.690195724104358, Training Accuracy: 0.6507\n"
          ]
        },
        {
          "output_type": "stream",
          "name": "stderr",
          "text": [
            "Epoch 11/100 (Validation): 100%|██████████| 146/146 [00:08<00:00, 17.14it/s]\n"
          ]
        },
        {
          "output_type": "stream",
          "name": "stdout",
          "text": [
            "Validation Loss: 0.567784676608974, Validation Accuracy: 0.7903\n"
          ]
        },
        {
          "output_type": "stream",
          "name": "stderr",
          "text": [
            "Epoch 12/100 (Training): 100%|██████████| 678/678 [02:05<00:00,  5.42it/s]\n"
          ]
        },
        {
          "output_type": "stream",
          "name": "stdout",
          "text": [
            "Training Loss: 0.6556143745296472, Training Accuracy: 0.6683\n"
          ]
        },
        {
          "output_type": "stream",
          "name": "stderr",
          "text": [
            "Epoch 12/100 (Validation): 100%|██████████| 146/146 [00:08<00:00, 16.84it/s]\n"
          ]
        },
        {
          "output_type": "stream",
          "name": "stdout",
          "text": [
            "Validation Loss: 0.5376786908058271, Validation Accuracy: 0.8022\n"
          ]
        },
        {
          "output_type": "stream",
          "name": "stderr",
          "text": [
            "Epoch 13/100 (Training): 100%|██████████| 678/678 [02:05<00:00,  5.38it/s]\n"
          ]
        },
        {
          "output_type": "stream",
          "name": "stdout",
          "text": [
            "Training Loss: 0.636477170396695, Training Accuracy: 0.6773\n"
          ]
        },
        {
          "output_type": "stream",
          "name": "stderr",
          "text": [
            "Epoch 13/100 (Validation): 100%|██████████| 146/146 [00:08<00:00, 16.93it/s]\n"
          ]
        },
        {
          "output_type": "stream",
          "name": "stdout",
          "text": [
            "Validation Loss: 0.5140559792722741, Validation Accuracy: 0.8112\n"
          ]
        },
        {
          "output_type": "stream",
          "name": "stderr",
          "text": [
            "Epoch 14/100 (Training): 100%|██████████| 678/678 [02:05<00:00,  5.41it/s]\n"
          ]
        },
        {
          "output_type": "stream",
          "name": "stdout",
          "text": [
            "Training Loss: 0.6103676962817313, Training Accuracy: 0.6851\n"
          ]
        },
        {
          "output_type": "stream",
          "name": "stderr",
          "text": [
            "Epoch 14/100 (Validation): 100%|██████████| 146/146 [00:08<00:00, 17.13it/s]\n"
          ]
        },
        {
          "output_type": "stream",
          "name": "stdout",
          "text": [
            "Validation Loss: 0.49733835438342944, Validation Accuracy: 0.8164\n"
          ]
        },
        {
          "output_type": "stream",
          "name": "stderr",
          "text": [
            "Epoch 15/100 (Training): 100%|██████████| 678/678 [02:05<00:00,  5.40it/s]\n"
          ]
        },
        {
          "output_type": "stream",
          "name": "stdout",
          "text": [
            "Training Loss: 0.5838666264198523, Training Accuracy: 0.7021\n"
          ]
        },
        {
          "output_type": "stream",
          "name": "stderr",
          "text": [
            "Epoch 15/100 (Validation): 100%|██████████| 146/146 [00:08<00:00, 17.15it/s]\n"
          ]
        },
        {
          "output_type": "stream",
          "name": "stdout",
          "text": [
            "Validation Loss: 0.48431804888460733, Validation Accuracy: 0.8207\n"
          ]
        },
        {
          "output_type": "stream",
          "name": "stderr",
          "text": [
            "Epoch 16/100 (Training): 100%|██████████| 678/678 [02:05<00:00,  5.41it/s]\n"
          ]
        },
        {
          "output_type": "stream",
          "name": "stdout",
          "text": [
            "Training Loss: 0.5660907469228306, Training Accuracy: 0.7039\n"
          ]
        },
        {
          "output_type": "stream",
          "name": "stderr",
          "text": [
            "Epoch 16/100 (Validation): 100%|██████████| 146/146 [00:08<00:00, 16.90it/s]\n"
          ]
        },
        {
          "output_type": "stream",
          "name": "stdout",
          "text": [
            "Validation Loss: 0.471683860743699, Validation Accuracy: 0.8252\n"
          ]
        },
        {
          "output_type": "stream",
          "name": "stderr",
          "text": [
            "Epoch 17/100 (Training): 100%|██████████| 678/678 [02:05<00:00,  5.39it/s]\n"
          ]
        },
        {
          "output_type": "stream",
          "name": "stdout",
          "text": [
            "Training Loss: 0.5608978535661303, Training Accuracy: 0.7061\n"
          ]
        },
        {
          "output_type": "stream",
          "name": "stderr",
          "text": [
            "Epoch 17/100 (Validation): 100%|██████████| 146/146 [00:08<00:00, 17.02it/s]\n"
          ]
        },
        {
          "output_type": "stream",
          "name": "stdout",
          "text": [
            "Validation Loss: 0.46523205333784834, Validation Accuracy: 0.8276\n"
          ]
        },
        {
          "output_type": "stream",
          "name": "stderr",
          "text": [
            "Epoch 18/100 (Training): 100%|██████████| 678/678 [02:05<00:00,  5.40it/s]\n"
          ]
        },
        {
          "output_type": "stream",
          "name": "stdout",
          "text": [
            "Training Loss: 0.5385996119330766, Training Accuracy: 0.7146\n"
          ]
        },
        {
          "output_type": "stream",
          "name": "stderr",
          "text": [
            "Epoch 18/100 (Validation): 100%|██████████| 146/146 [00:08<00:00, 16.88it/s]\n"
          ]
        },
        {
          "output_type": "stream",
          "name": "stdout",
          "text": [
            "Validation Loss: 0.4547835980376152, Validation Accuracy: 0.8282\n"
          ]
        },
        {
          "output_type": "stream",
          "name": "stderr",
          "text": [
            "Epoch 19/100 (Training): 100%|██████████| 678/678 [02:05<00:00,  5.39it/s]\n"
          ]
        },
        {
          "output_type": "stream",
          "name": "stdout",
          "text": [
            "Training Loss: 0.5160515917833224, Training Accuracy: 0.7277\n"
          ]
        },
        {
          "output_type": "stream",
          "name": "stderr",
          "text": [
            "Epoch 19/100 (Validation): 100%|██████████| 146/146 [00:08<00:00, 17.14it/s]\n"
          ]
        },
        {
          "output_type": "stream",
          "name": "stdout",
          "text": [
            "Validation Loss: 0.44132197240035825, Validation Accuracy: 0.8325\n"
          ]
        },
        {
          "output_type": "stream",
          "name": "stderr",
          "text": [
            "Epoch 20/100 (Training): 100%|██████████| 678/678 [02:05<00:00,  5.40it/s]\n"
          ]
        },
        {
          "output_type": "stream",
          "name": "stdout",
          "text": [
            "Training Loss: 0.5167902653987428, Training Accuracy: 0.7208\n"
          ]
        },
        {
          "output_type": "stream",
          "name": "stderr",
          "text": [
            "Epoch 20/100 (Validation): 100%|██████████| 146/146 [00:08<00:00, 16.83it/s]\n"
          ]
        },
        {
          "output_type": "stream",
          "name": "stdout",
          "text": [
            "Validation Loss: 0.4407236741421974, Validation Accuracy: 0.8329\n"
          ]
        },
        {
          "output_type": "stream",
          "name": "stderr",
          "text": [
            "Epoch 21/100 (Training): 100%|██████████| 678/678 [02:05<00:00,  5.42it/s]\n"
          ]
        },
        {
          "output_type": "stream",
          "name": "stdout",
          "text": [
            "Training Loss: 0.5119852897516043, Training Accuracy: 0.7257\n"
          ]
        },
        {
          "output_type": "stream",
          "name": "stderr",
          "text": [
            "Epoch 21/100 (Validation): 100%|██████████| 146/146 [00:08<00:00, 17.14it/s]\n"
          ]
        },
        {
          "output_type": "stream",
          "name": "stdout",
          "text": [
            "Validation Loss: 0.4322466379771494, Validation Accuracy: 0.8375\n"
          ]
        },
        {
          "output_type": "stream",
          "name": "stderr",
          "text": [
            "Epoch 22/100 (Training): 100%|██████████| 678/678 [02:05<00:00,  5.42it/s]\n"
          ]
        },
        {
          "output_type": "stream",
          "name": "stdout",
          "text": [
            "Training Loss: 0.4969986358926711, Training Accuracy: 0.7366\n"
          ]
        },
        {
          "output_type": "stream",
          "name": "stderr",
          "text": [
            "Epoch 22/100 (Validation): 100%|██████████| 146/146 [00:08<00:00, 16.93it/s]\n"
          ]
        },
        {
          "output_type": "stream",
          "name": "stdout",
          "text": [
            "Validation Loss: 0.42799819740530565, Validation Accuracy: 0.8368\n"
          ]
        },
        {
          "output_type": "stream",
          "name": "stderr",
          "text": [
            "Epoch 23/100 (Training): 100%|██████████| 678/678 [02:05<00:00,  5.40it/s]\n"
          ]
        },
        {
          "output_type": "stream",
          "name": "stdout",
          "text": [
            "Training Loss: 0.4849959857827794, Training Accuracy: 0.7371\n"
          ]
        },
        {
          "output_type": "stream",
          "name": "stderr",
          "text": [
            "Epoch 23/100 (Validation): 100%|██████████| 146/146 [00:08<00:00, 17.36it/s]\n"
          ]
        },
        {
          "output_type": "stream",
          "name": "stdout",
          "text": [
            "Validation Loss: 0.4283297417098529, Validation Accuracy: 0.8411\n"
          ]
        },
        {
          "output_type": "stream",
          "name": "stderr",
          "text": [
            "Epoch 24/100 (Training): 100%|██████████| 678/678 [02:05<00:00,  5.40it/s]\n"
          ]
        },
        {
          "output_type": "stream",
          "name": "stdout",
          "text": [
            "Training Loss: 0.48105566840959507, Training Accuracy: 0.7385\n"
          ]
        },
        {
          "output_type": "stream",
          "name": "stderr",
          "text": [
            "Epoch 24/100 (Validation): 100%|██████████| 146/146 [00:08<00:00, 16.76it/s]\n"
          ]
        },
        {
          "output_type": "stream",
          "name": "stdout",
          "text": [
            "Validation Loss: 0.42692429653994024, Validation Accuracy: 0.8388\n"
          ]
        },
        {
          "output_type": "stream",
          "name": "stderr",
          "text": [
            "Epoch 25/100 (Training): 100%|██████████| 678/678 [02:05<00:00,  5.42it/s]\n"
          ]
        },
        {
          "output_type": "stream",
          "name": "stdout",
          "text": [
            "Training Loss: 0.4696834184954652, Training Accuracy: 0.7463\n"
          ]
        },
        {
          "output_type": "stream",
          "name": "stderr",
          "text": [
            "Epoch 25/100 (Validation): 100%|██████████| 146/146 [00:08<00:00, 16.87it/s]\n"
          ]
        },
        {
          "output_type": "stream",
          "name": "stdout",
          "text": [
            "Validation Loss: 0.4236328397711662, Validation Accuracy: 0.8409\n"
          ]
        },
        {
          "output_type": "stream",
          "name": "stderr",
          "text": [
            "Epoch 26/100 (Training): 100%|██████████| 678/678 [02:05<00:00,  5.42it/s]\n"
          ]
        },
        {
          "output_type": "stream",
          "name": "stdout",
          "text": [
            "Training Loss: 0.4642480084546196, Training Accuracy: 0.7467\n"
          ]
        },
        {
          "output_type": "stream",
          "name": "stderr",
          "text": [
            "Epoch 26/100 (Validation): 100%|██████████| 146/146 [00:08<00:00, 16.74it/s]\n"
          ]
        },
        {
          "output_type": "stream",
          "name": "stdout",
          "text": [
            "Validation Loss: 0.42077373988824346, Validation Accuracy: 0.8403\n"
          ]
        },
        {
          "output_type": "stream",
          "name": "stderr",
          "text": [
            "Epoch 27/100 (Training): 100%|██████████| 678/678 [02:04<00:00,  5.43it/s]\n"
          ]
        },
        {
          "output_type": "stream",
          "name": "stdout",
          "text": [
            "Training Loss: 0.4543953989811, Training Accuracy: 0.7494\n"
          ]
        },
        {
          "output_type": "stream",
          "name": "stderr",
          "text": [
            "Epoch 27/100 (Validation): 100%|██████████| 146/146 [00:08<00:00, 16.83it/s]\n"
          ]
        },
        {
          "output_type": "stream",
          "name": "stdout",
          "text": [
            "Validation Loss: 0.42280092427175336, Validation Accuracy: 0.8420\n"
          ]
        },
        {
          "output_type": "stream",
          "name": "stderr",
          "text": [
            "Epoch 28/100 (Training): 100%|██████████| 678/678 [02:05<00:00,  5.39it/s]\n"
          ]
        },
        {
          "output_type": "stream",
          "name": "stdout",
          "text": [
            "Training Loss: 0.45277568174850275, Training Accuracy: 0.7499\n"
          ]
        },
        {
          "output_type": "stream",
          "name": "stderr",
          "text": [
            "Epoch 28/100 (Validation): 100%|██████████| 146/146 [00:08<00:00, 17.01it/s]\n"
          ]
        },
        {
          "output_type": "stream",
          "name": "stdout",
          "text": [
            "Validation Loss: 0.4173423027339047, Validation Accuracy: 0.8437\n"
          ]
        },
        {
          "output_type": "stream",
          "name": "stderr",
          "text": [
            "Epoch 29/100 (Training): 100%|██████████| 678/678 [02:05<00:00,  5.42it/s]\n"
          ]
        },
        {
          "output_type": "stream",
          "name": "stdout",
          "text": [
            "Training Loss: 0.4467137280554898, Training Accuracy: 0.7491\n"
          ]
        },
        {
          "output_type": "stream",
          "name": "stderr",
          "text": [
            "Epoch 29/100 (Validation): 100%|██████████| 146/146 [00:08<00:00, 16.93it/s]\n"
          ]
        },
        {
          "output_type": "stream",
          "name": "stdout",
          "text": [
            "Validation Loss: 0.42318020771219306, Validation Accuracy: 0.8446\n"
          ]
        },
        {
          "output_type": "stream",
          "name": "stderr",
          "text": [
            "Epoch 30/100 (Training): 100%|██████████| 678/678 [02:05<00:00,  5.41it/s]\n"
          ]
        },
        {
          "output_type": "stream",
          "name": "stdout",
          "text": [
            "Training Loss: 0.44450117278415546, Training Accuracy: 0.7524\n"
          ]
        },
        {
          "output_type": "stream",
          "name": "stderr",
          "text": [
            "Epoch 30/100 (Validation): 100%|██████████| 146/146 [00:08<00:00, 17.28it/s]\n"
          ]
        },
        {
          "output_type": "stream",
          "name": "stdout",
          "text": [
            "Validation Loss: 0.42600197600175255, Validation Accuracy: 0.8439\n"
          ]
        },
        {
          "output_type": "stream",
          "name": "stderr",
          "text": [
            "Epoch 31/100 (Training): 100%|██████████| 678/678 [02:05<00:00,  5.41it/s]\n"
          ]
        },
        {
          "output_type": "stream",
          "name": "stdout",
          "text": [
            "Training Loss: 0.4377235914401952, Training Accuracy: 0.7548\n"
          ]
        },
        {
          "output_type": "stream",
          "name": "stderr",
          "text": [
            "Epoch 31/100 (Validation): 100%|██████████| 146/146 [00:08<00:00, 16.89it/s]\n"
          ]
        },
        {
          "output_type": "stream",
          "name": "stdout",
          "text": [
            "Validation Loss: 0.4239354341303649, Validation Accuracy: 0.8392\n"
          ]
        },
        {
          "output_type": "stream",
          "name": "stderr",
          "text": [
            "Epoch 32/100 (Training): 100%|██████████| 678/678 [02:05<00:00,  5.41it/s]\n"
          ]
        },
        {
          "output_type": "stream",
          "name": "stdout",
          "text": [
            "Training Loss: 0.4335039603059622, Training Accuracy: 0.7586\n"
          ]
        },
        {
          "output_type": "stream",
          "name": "stderr",
          "text": [
            "Epoch 32/100 (Validation): 100%|██████████| 146/146 [00:08<00:00, 17.21it/s]\n"
          ]
        },
        {
          "output_type": "stream",
          "name": "stdout",
          "text": [
            "Validation Loss: 0.42198544495726287, Validation Accuracy: 0.8426\n"
          ]
        },
        {
          "output_type": "stream",
          "name": "stderr",
          "text": [
            "Epoch 33/100 (Training): 100%|██████████| 678/678 [02:05<00:00,  5.40it/s]\n"
          ]
        },
        {
          "output_type": "stream",
          "name": "stdout",
          "text": [
            "Training Loss: 0.43287913749615353, Training Accuracy: 0.7561\n"
          ]
        },
        {
          "output_type": "stream",
          "name": "stderr",
          "text": [
            "Epoch 33/100 (Validation): 100%|██████████| 146/146 [00:08<00:00, 16.80it/s]\n"
          ]
        },
        {
          "output_type": "stream",
          "name": "stdout",
          "text": [
            "Validation Loss: 0.41672698459396623, Validation Accuracy: 0.8435\n"
          ]
        },
        {
          "output_type": "stream",
          "name": "stderr",
          "text": [
            "Epoch 34/100 (Training): 100%|██████████| 678/678 [02:05<00:00,  5.41it/s]\n"
          ]
        },
        {
          "output_type": "stream",
          "name": "stdout",
          "text": [
            "Training Loss: 0.41786585405337073, Training Accuracy: 0.7569\n"
          ]
        },
        {
          "output_type": "stream",
          "name": "stderr",
          "text": [
            "Epoch 34/100 (Validation): 100%|██████████| 146/146 [00:08<00:00, 17.17it/s]\n"
          ]
        },
        {
          "output_type": "stream",
          "name": "stdout",
          "text": [
            "Validation Loss: 0.42282842334410914, Validation Accuracy: 0.8426\n"
          ]
        },
        {
          "output_type": "stream",
          "name": "stderr",
          "text": [
            "Epoch 35/100 (Training): 100%|██████████| 678/678 [02:05<00:00,  5.42it/s]\n"
          ]
        },
        {
          "output_type": "stream",
          "name": "stdout",
          "text": [
            "Training Loss: 0.4257103362090468, Training Accuracy: 0.7563\n"
          ]
        },
        {
          "output_type": "stream",
          "name": "stderr",
          "text": [
            "Epoch 35/100 (Validation): 100%|██████████| 146/146 [00:08<00:00, 16.71it/s]\n"
          ]
        },
        {
          "output_type": "stream",
          "name": "stdout",
          "text": [
            "Validation Loss: 0.4314011172072528, Validation Accuracy: 0.8405\n"
          ]
        },
        {
          "output_type": "stream",
          "name": "stderr",
          "text": [
            "Epoch 36/100 (Training): 100%|██████████| 678/678 [02:04<00:00,  5.43it/s]\n"
          ]
        },
        {
          "output_type": "stream",
          "name": "stdout",
          "text": [
            "Training Loss: 0.4181319306821598, Training Accuracy: 0.7592\n"
          ]
        },
        {
          "output_type": "stream",
          "name": "stderr",
          "text": [
            "Epoch 36/100 (Validation): 100%|██████████| 146/146 [00:08<00:00, 17.10it/s]\n"
          ]
        },
        {
          "output_type": "stream",
          "name": "stdout",
          "text": [
            "Validation Loss: 0.42188021892758265, Validation Accuracy: 0.8465\n"
          ]
        },
        {
          "output_type": "stream",
          "name": "stderr",
          "text": [
            "Epoch 37/100 (Training): 100%|██████████| 678/678 [02:05<00:00,  5.41it/s]\n"
          ]
        },
        {
          "output_type": "stream",
          "name": "stdout",
          "text": [
            "Training Loss: 0.41761033118298624, Training Accuracy: 0.7596\n"
          ]
        },
        {
          "output_type": "stream",
          "name": "stderr",
          "text": [
            "Epoch 37/100 (Validation): 100%|██████████| 146/146 [00:08<00:00, 16.98it/s]\n"
          ]
        },
        {
          "output_type": "stream",
          "name": "stdout",
          "text": [
            "Validation Loss: 0.426407594093415, Validation Accuracy: 0.8450\n"
          ]
        },
        {
          "output_type": "stream",
          "name": "stderr",
          "text": [
            "Epoch 38/100 (Training): 100%|██████████| 678/678 [02:04<00:00,  5.45it/s]\n"
          ]
        },
        {
          "output_type": "stream",
          "name": "stdout",
          "text": [
            "Training Loss: 0.40370000408726103, Training Accuracy: 0.7629\n"
          ]
        },
        {
          "output_type": "stream",
          "name": "stderr",
          "text": [
            "Epoch 38/100 (Validation): 100%|██████████| 146/146 [00:08<00:00, 16.95it/s]\n"
          ]
        },
        {
          "output_type": "stream",
          "name": "stdout",
          "text": [
            "Validation Loss: 0.42653294935286656, Validation Accuracy: 0.8463\n",
            "Early stopping at epoch 38\n"
          ]
        },
        {
          "output_type": "display_data",
          "data": {
            "text/plain": [
              "<Figure size 1200x600 with 2 Axes>"
            ],
            "image/png": "[encoded data removed]"
          },
          "metadata": {}
        }
      ]
    },
    {
      "cell_type": "code",
      "source": [
        "model.eval()\n",
        "test_preds = []\n",
        "test_labels = []\n",
        "\n",
        "with torch.no_grad():\n",
        "    for test_inputs, test_labels_batch in tqdm(test_loader, desc='Final Evaluation'):\n",
        "        # Redimensiona los datos para agregar la dimensión de la secuencia\n",
        "        sequence_length = test_inputs.size(1) // input_size\n",
        "        test_inputs = test_inputs.view(test_inputs.size(0), sequence_length, input_size)\n",
        "\n",
        "        test_outputs = model(test_inputs)\n",
        "        preds = torch.argmax(test_outputs, dim=1).cpu().numpy()\n",
        "        test_preds.extend(preds.tolist())\n",
        "        test_labels.extend(test_labels_batch.cpu().numpy().tolist())\n",
        "\n",
        "# Calcular la precisión usando NumPy\n",
        "test_accuracy = accuracy_score(test_labels, test_preds)\n",
        "print(f'Final Test Accuracy: {test_accuracy:.4f}')"
      ],
      "metadata": {
        "colab": {
          "base_uri": "https://localhost:8080/"
        },
        "id": "ibpIyJZCOWCu",
        "outputId": "414f1b2e-36ef-485e-f515-d0cc7e5bda53"
      },
      "execution_count": 68,
      "outputs": [
        {
          "output_type": "stream",
          "name": "stderr",
          "text": [
            "Final Evaluation: 100%|██████████| 146/146 [00:09<00:00, 15.67it/s]"
          ]
        },
        {
          "output_type": "stream",
          "name": "stdout",
          "text": [
            "Final Test Accuracy: 0.8455\n"
          ]
        },
        {
          "output_type": "stream",
          "name": "stderr",
          "text": [
            "\n"
          ]
        }
      ]
    },
    {
      "cell_type": "markdown",
      "source": [
        "Función para probar el modelo"
      ],
      "metadata": {
        "id": "pPimZGxpo9Rm"
      }
    },
    {
      "cell_type": "code",
      "source": [
        "def predict_sentiment(model, text, vectorizer):\n",
        "    text_vectorized = vectorizer.transform([text]).toarray()\n",
        "\n",
        "    text_tensor = torch.tensor(text_vectorized, dtype=torch.float32)\n",
        "\n",
        "    sequence_length = text_tensor.size(1) // input_size\n",
        "    text_tensor = text_tensor.view(1, sequence_length, input_size)\n",
        "\n",
        "    model.eval()\n",
        "    with torch.no_grad():\n",
        "        output = model(text_tensor)\n",
        "\n",
        "    predicted_label = torch.argmax(output, dim=1).item()\n",
        "\n",
        "    return predicted_label\n"
      ],
      "metadata": {
        "id": "PIAFfhm3r_hD"
      },
      "execution_count": 69,
      "outputs": []
    },
    {
      "cell_type": "markdown",
      "source": [
        "Prueba del modelo, se cambia el input text\n",
        "Categorías:\n",
        "-1 : Sentimiento Negativo\n",
        "0 : Sentimiento neutral\n",
        "1: Sentimiento positivo"
      ],
      "metadata": {
        "id": "9UiRQfg0o_aV"
      }
    },
    {
      "cell_type": "code",
      "source": [
        "input_text = \"I want a donut\"\n",
        "predicted_label = predict_sentiment(model, input_text, vectorizer)\n",
        "\n",
        "predicted_category = label_encoder.inverse_transform([predicted_label])[0]\n",
        "print(f'Predicted Category: {predicted_category}')"
      ],
      "metadata": {
        "colab": {
          "base_uri": "https://localhost:8080/"
        },
        "id": "4hJGeXlGsIU3",
        "outputId": "fd4b0888-c3aa-4b40-8960-a932e8b652cb"
      },
      "execution_count": 70,
      "outputs": [
        {
          "output_type": "stream",
          "name": "stdout",
          "text": [
            "Predicted Category: 0.0\n"
          ]
        }
      ]
    },
    {
      "cell_type": "markdown",
      "source": [
        "#Conclusiones\n",
        "El modelo tiene alrededor del 84% de precisión que para un modelo de clasificación de 3 clases es un buen porcentaje, las áreas de oportunidad que detecto en el modelo son la mejora en la precisión del conjunto de entrenamiento ya que no logré encontrar por que tiene mejor rendimiento en el set de validación o al menos no pude encontrar el equilibrio sin que el modelo cayera en overfitting"
      ],
      "metadata": {
        "id": "HHhHIx0KRC9n"
      }
    }
  ],
  "metadata": {
    "colab": {
      "provenance": []
    },
    "kernelspec": {
      "display_name": "Python 3",
      "name": "python3"
    },
    "language_info": {
      "name": "python"
    }
  },
  "nbformat": 4,
  "nbformat_minor": 0
}