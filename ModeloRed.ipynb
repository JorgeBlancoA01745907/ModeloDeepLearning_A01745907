{
  "nbformat": 4,
  "nbformat_minor": 0,
  "metadata": {
    "colab": {
      "provenance": []
    },
    "kernelspec": {
      "name": "python3",
      "display_name": "Python 3"
    },
    "language_info": {
      "name": "python"
    }
  },
  "cells": [
    {
      "cell_type": "markdown",
      "source": [
        "#Jorge Isidro Blanco Martínez A01745907\n"
      ],
      "metadata": {
        "id": "4vGeTSA6jmze"
      }
    },
    {
      "cell_type": "markdown",
      "source": [
        "El dataset contiene diversos datos sobre el clima alrededor del mundo como humedad, velocidad del viento, calidad del aire, etc. Con estos datos buscamos predecir la temperatura en grados Celsius teniendo en cuenta los factores mencionados anteriormente"
      ],
      "metadata": {
        "id": "ylHUCfmY8M3c"
      }
    },
    {
      "cell_type": "code",
      "source": [
        "import pandas as pd\n",
        "import numpy as np\n",
        "from sklearn.model_selection import train_test_split\n",
        "from keras.models import Sequential\n",
        "from keras.layers import SimpleRNN, Dense\n",
        "from sklearn.preprocessing import MinMaxScaler\n",
        "from sklearn.model_selection import train_test_split"
      ],
      "metadata": {
        "id": "MGAG5nra8pCd"
      },
      "execution_count": 18,
      "outputs": []
    },
    {
      "cell_type": "markdown",
      "source": [
        "Cargar Datos"
      ],
      "metadata": {
        "id": "QPUdhNWMk493"
      }
    },
    {
      "cell_type": "code",
      "execution_count": 4,
      "metadata": {
        "id": "8PqMEcXZjjqX"
      },
      "outputs": [],
      "source": [
        "file = 'GlobalWeatherRepository.csv'\n",
        "df = pd.read_csv(file)"
      ]
    },
    {
      "cell_type": "markdown",
      "source": [
        "Separar objetivo"
      ],
      "metadata": {
        "id": "FgbBSa85lTt0"
      }
    },
    {
      "cell_type": "code",
      "source": [
        "y = df['temperature_celsius'].values"
      ],
      "metadata": {
        "id": "zFQuHUpYj-YN"
      },
      "execution_count": 5,
      "outputs": []
    },
    {
      "cell_type": "markdown",
      "source": [
        "Quitar columnas que no sean de utilidad"
      ],
      "metadata": {
        "id": "Qv_C2YosmHYN"
      }
    },
    {
      "cell_type": "code",
      "source": [
        "df = df.drop(['country', 'location_name', 'timezone', 'last_updated_epoch', 'last_updated', 'feels_like_celsius', 'feels_like_celsius', 'feels_like_fahrenheit', 'sunrise', 'sunset', 'moonrise', 'moon_phase', 'moonset', 'moon_illumination', 'wind_direction'], axis=1)"
      ],
      "metadata": {
        "id": "D2NRI6J5kFjh"
      },
      "execution_count": 6,
      "outputs": []
    },
    {
      "cell_type": "markdown",
      "source": [
        "One-hot encoding para el campo condition_text"
      ],
      "metadata": {
        "id": "mxyFhDDPmbYb"
      }
    },
    {
      "cell_type": "code",
      "source": [
        "df = pd.concat([df.drop('condition_text', axis=1), pd.get_dummies(df['condition_text'], prefix='condition')], axis=1)"
      ],
      "metadata": {
        "id": "VK2UZxz5kJin"
      },
      "execution_count": 7,
      "outputs": []
    },
    {
      "cell_type": "markdown",
      "source": [
        "Dividir en set de entrenamiento y test"
      ],
      "metadata": {
        "id": "gtbDBEZemuqp"
      }
    },
    {
      "cell_type": "code",
      "source": [
        "X_train, X_temp, y_train, y_temp = train_test_split(df, y, test_size=0.3, random_state=42)\n",
        "X_test, X_val, y_test, y_val = train_test_split(X_temp, y_temp, test_size=0.5, random_state=42)"
      ],
      "metadata": {
        "id": "1jSy3dbIkOVf"
      },
      "execution_count": 8,
      "outputs": []
    },
    {
      "cell_type": "markdown",
      "source": [
        "Darle forma a los datos para el modelo"
      ],
      "metadata": {
        "id": "pWxATso2mzfI"
      }
    },
    {
      "cell_type": "code",
      "source": [
        "X_train = X_train.values.reshape((X_train.shape[0], 1, X_train.shape[1]))\n",
        "X_test = X_test.values.reshape((X_test.shape[0], 1, X_test.shape[1]))\n",
        "X_val = X_val.values.reshape((X_val.shape[0], 1, X_val.shape[1]))"
      ],
      "metadata": {
        "id": "0aRwPTFukU-d"
      },
      "execution_count": 9,
      "outputs": []
    },
    {
      "cell_type": "markdown",
      "source": [
        "Pasar a float los datos"
      ],
      "metadata": {
        "id": "0cE_1IKtm2nV"
      }
    },
    {
      "cell_type": "code",
      "source": [
        "X_train = X_train.astype('float32')\n",
        "X_val = X_val.astype('float32')\n",
        "X_test = X_test.astype('float32')\n",
        "y_train = y_train.astype('float32')\n",
        "y_val = y_val.astype('float32')\n",
        "y_test = y_test.astype('float32')"
      ],
      "metadata": {
        "id": "L6ZALNrRkZ-j"
      },
      "execution_count": 10,
      "outputs": []
    },
    {
      "cell_type": "markdown",
      "source": [
        "Creación del modelo"
      ],
      "metadata": {
        "id": "0MDU2GKUm5Y9"
      }
    },
    {
      "cell_type": "code",
      "source": [
        "model = Sequential()\n",
        "model.add(SimpleRNN(units=10, input_shape=(1, X_train.shape[2])))\n",
        "model.add(Dense(units=1))"
      ],
      "metadata": {
        "id": "WpEl-LhpkdL_"
      },
      "execution_count": 11,
      "outputs": []
    },
    {
      "cell_type": "markdown",
      "source": [
        "Compilación del modelo"
      ],
      "metadata": {
        "id": "N1KK-qGkm9Gx"
      }
    },
    {
      "cell_type": "code",
      "source": [
        "model.compile(optimizer='adam', loss='mean_squared_error')"
      ],
      "metadata": {
        "id": "FllmarIVkfTb"
      },
      "execution_count": 12,
      "outputs": []
    },
    {
      "cell_type": "markdown",
      "source": [
        "Entrenr el modelo"
      ],
      "metadata": {
        "id": "iGWE6SiunC7V"
      }
    },
    {
      "cell_type": "code",
      "source": [
        "model.fit(X_train, y_train, epochs=50, batch_size=1, validation_data=(X_val, y_val), verbose=2)"
      ],
      "metadata": {
        "id": "avLxB4BXkhqZ",
        "colab": {
          "base_uri": "https://localhost:8080/"
        },
        "outputId": "7ed6d153-3039-455f-9af3-b689e7af225f"
      },
      "execution_count": 13,
      "outputs": [
        {
          "output_type": "stream",
          "name": "stdout",
          "text": [
            "Epoch 1/50\n",
            "10094/10094 - 27s - loss: 96.1880 - val_loss: 64.9567 - 27s/epoch - 3ms/step\n",
            "Epoch 2/50\n",
            "10094/10094 - 23s - loss: 61.7456 - val_loss: 63.7404 - 23s/epoch - 2ms/step\n",
            "Epoch 3/50\n",
            "10094/10094 - 27s - loss: 61.4232 - val_loss: 63.7484 - 27s/epoch - 3ms/step\n",
            "Epoch 4/50\n",
            "10094/10094 - 31s - loss: 61.2372 - val_loss: 63.6239 - 31s/epoch - 3ms/step\n",
            "Epoch 5/50\n",
            "10094/10094 - 27s - loss: 61.1527 - val_loss: 63.4575 - 27s/epoch - 3ms/step\n",
            "Epoch 6/50\n",
            "10094/10094 - 26s - loss: 61.0569 - val_loss: 63.3052 - 26s/epoch - 3ms/step\n",
            "Epoch 7/50\n",
            "10094/10094 - 25s - loss: 61.0554 - val_loss: 63.5555 - 25s/epoch - 2ms/step\n",
            "Epoch 8/50\n",
            "10094/10094 - 25s - loss: 60.9928 - val_loss: 63.3779 - 25s/epoch - 2ms/step\n",
            "Epoch 9/50\n",
            "10094/10094 - 30s - loss: 61.0090 - val_loss: 63.2561 - 30s/epoch - 3ms/step\n",
            "Epoch 10/50\n",
            "10094/10094 - 24s - loss: 60.9915 - val_loss: 63.2105 - 24s/epoch - 2ms/step\n",
            "Epoch 11/50\n",
            "10094/10094 - 29s - loss: 60.9382 - val_loss: 63.3448 - 29s/epoch - 3ms/step\n",
            "Epoch 12/50\n",
            "10094/10094 - 30s - loss: 60.9424 - val_loss: 63.4106 - 30s/epoch - 3ms/step\n",
            "Epoch 13/50\n",
            "10094/10094 - 28s - loss: 60.9771 - val_loss: 63.2334 - 28s/epoch - 3ms/step\n",
            "Epoch 14/50\n",
            "10094/10094 - 28s - loss: 60.9326 - val_loss: 63.5316 - 28s/epoch - 3ms/step\n",
            "Epoch 15/50\n",
            "10094/10094 - 28s - loss: 60.9440 - val_loss: 63.3652 - 28s/epoch - 3ms/step\n",
            "Epoch 16/50\n",
            "10094/10094 - 35s - loss: 60.9427 - val_loss: 63.2665 - 35s/epoch - 3ms/step\n",
            "Epoch 17/50\n",
            "10094/10094 - 30s - loss: 60.9399 - val_loss: 63.3614 - 30s/epoch - 3ms/step\n",
            "Epoch 18/50\n",
            "10094/10094 - 29s - loss: 60.9496 - val_loss: 63.2246 - 29s/epoch - 3ms/step\n",
            "Epoch 19/50\n",
            "10094/10094 - 28s - loss: 60.9314 - val_loss: 63.1601 - 28s/epoch - 3ms/step\n",
            "Epoch 20/50\n",
            "10094/10094 - 29s - loss: 60.9421 - val_loss: 63.2468 - 29s/epoch - 3ms/step\n",
            "Epoch 21/50\n",
            "10094/10094 - 27s - loss: 60.9119 - val_loss: 63.5002 - 27s/epoch - 3ms/step\n",
            "Epoch 22/50\n",
            "10094/10094 - 26s - loss: 60.9243 - val_loss: 63.2757 - 26s/epoch - 3ms/step\n",
            "Epoch 23/50\n",
            "10094/10094 - 27s - loss: 60.9199 - val_loss: 63.2690 - 27s/epoch - 3ms/step\n",
            "Epoch 24/50\n",
            "10094/10094 - 26s - loss: 60.8627 - val_loss: 63.3429 - 26s/epoch - 3ms/step\n",
            "Epoch 25/50\n",
            "10094/10094 - 25s - loss: 60.8890 - val_loss: 63.1720 - 25s/epoch - 2ms/step\n",
            "Epoch 26/50\n",
            "10094/10094 - 25s - loss: 60.9153 - val_loss: 63.1044 - 25s/epoch - 2ms/step\n",
            "Epoch 27/50\n",
            "10094/10094 - 25s - loss: 60.9067 - val_loss: 63.1378 - 25s/epoch - 3ms/step\n",
            "Epoch 28/50\n",
            "10094/10094 - 29s - loss: 60.9284 - val_loss: 63.2941 - 29s/epoch - 3ms/step\n",
            "Epoch 29/50\n",
            "10094/10094 - 25s - loss: 60.9651 - val_loss: 63.2161 - 25s/epoch - 2ms/step\n",
            "Epoch 30/50\n",
            "10094/10094 - 27s - loss: 60.8939 - val_loss: 63.2706 - 27s/epoch - 3ms/step\n",
            "Epoch 31/50\n",
            "10094/10094 - 25s - loss: 60.9113 - val_loss: 63.4222 - 25s/epoch - 2ms/step\n",
            "Epoch 32/50\n",
            "10094/10094 - 27s - loss: 60.8949 - val_loss: 63.0695 - 27s/epoch - 3ms/step\n",
            "Epoch 33/50\n",
            "10094/10094 - 28s - loss: 60.9591 - val_loss: 63.1087 - 28s/epoch - 3ms/step\n",
            "Epoch 34/50\n",
            "10094/10094 - 26s - loss: 60.9099 - val_loss: 63.2165 - 26s/epoch - 3ms/step\n",
            "Epoch 35/50\n",
            "10094/10094 - 24s - loss: 60.9241 - val_loss: 63.1581 - 24s/epoch - 2ms/step\n",
            "Epoch 36/50\n",
            "10094/10094 - 25s - loss: 60.9575 - val_loss: 63.1319 - 25s/epoch - 2ms/step\n",
            "Epoch 37/50\n",
            "10094/10094 - 22s - loss: 60.9125 - val_loss: 63.1158 - 22s/epoch - 2ms/step\n",
            "Epoch 38/50\n",
            "10094/10094 - 23s - loss: 60.9243 - val_loss: 63.3302 - 23s/epoch - 2ms/step\n",
            "Epoch 39/50\n",
            "10094/10094 - 23s - loss: 60.9337 - val_loss: 63.2132 - 23s/epoch - 2ms/step\n",
            "Epoch 40/50\n",
            "10094/10094 - 29s - loss: 61.0663 - val_loss: 63.3273 - 29s/epoch - 3ms/step\n",
            "Epoch 41/50\n",
            "10094/10094 - 28s - loss: 60.9447 - val_loss: 63.2571 - 28s/epoch - 3ms/step\n",
            "Epoch 42/50\n",
            "10094/10094 - 27s - loss: 60.9820 - val_loss: 63.3353 - 27s/epoch - 3ms/step\n",
            "Epoch 43/50\n",
            "10094/10094 - 28s - loss: 60.9421 - val_loss: 63.4144 - 28s/epoch - 3ms/step\n",
            "Epoch 44/50\n",
            "10094/10094 - 25s - loss: 60.9461 - val_loss: 63.1718 - 25s/epoch - 3ms/step\n",
            "Epoch 45/50\n",
            "10094/10094 - 27s - loss: 60.8881 - val_loss: 63.1338 - 27s/epoch - 3ms/step\n",
            "Epoch 46/50\n",
            "10094/10094 - 26s - loss: 60.9024 - val_loss: 63.1724 - 26s/epoch - 3ms/step\n",
            "Epoch 47/50\n",
            "10094/10094 - 24s - loss: 60.9356 - val_loss: 63.1769 - 24s/epoch - 2ms/step\n",
            "Epoch 48/50\n",
            "10094/10094 - 28s - loss: 60.9541 - val_loss: 63.7270 - 28s/epoch - 3ms/step\n",
            "Epoch 49/50\n",
            "10094/10094 - 26s - loss: 60.9300 - val_loss: 63.4157 - 26s/epoch - 3ms/step\n",
            "Epoch 50/50\n",
            "10094/10094 - 25s - loss: 60.9241 - val_loss: 63.1656 - 25s/epoch - 3ms/step\n"
          ]
        },
        {
          "output_type": "execute_result",
          "data": {
            "text/plain": [
              "<keras.src.callbacks.History at 0x7e3e02b7f730>"
            ]
          },
          "metadata": {},
          "execution_count": 13
        }
      ]
    },
    {
      "cell_type": "markdown",
      "source": [
        "Probar el modelo y obtener el porcentaje de pérdida"
      ],
      "metadata": {
        "id": "LiTMEEk5nEwF"
      }
    },
    {
      "cell_type": "code",
      "source": [
        "loss = model.evaluate(X_test, y_test, batch_size=1)\n",
        "print(f'Error en el conjunto de prueba: {loss}')"
      ],
      "metadata": {
        "id": "sdBA6jVbkmEj",
        "colab": {
          "base_uri": "https://localhost:8080/"
        },
        "outputId": "ade43118-071f-4056-cc0f-fadf99b86a8e"
      },
      "execution_count": 14,
      "outputs": [
        {
          "output_type": "stream",
          "name": "stdout",
          "text": [
            "2163/2163 [==============================] - 5s 2ms/step - loss: 58.8073\n",
            "Error en el conjunto de prueba: 58.80729675292969\n"
          ]
        }
      ]
    },
    {
      "cell_type": "code",
      "source": [
        "predictions = model.predict(X_test)"
      ],
      "metadata": {
        "id": "gG7fO0xKkp_w",
        "colab": {
          "base_uri": "https://localhost:8080/"
        },
        "outputId": "c5884ae0-12b5-4ee8-fb46-890186a3bdd9"
      },
      "execution_count": 15,
      "outputs": [
        {
          "output_type": "stream",
          "name": "stdout",
          "text": [
            "68/68 [==============================] - 0s 2ms/step\n"
          ]
        }
      ]
    },
    {
      "cell_type": "markdown",
      "source": [
        "Normalizar los datos"
      ],
      "metadata": {
        "id": "vQdLV01nEvLG"
      }
    },
    {
      "cell_type": "code",
      "source": [
        "X_train_flattened = np.reshape(X_train, (X_train.shape[0] * X_train.shape[1], X_train.shape[2]))\n",
        "\n",
        "scaler = MinMaxScaler()\n",
        "X_train_normal = scaler.fit_transform(X_train_flattened)\n",
        "\n",
        "X_train_normal = np.reshape(X_train_normal, X_train.shape)\n",
        "\n",
        "X_test_flattened = np.reshape(X_test, (X_test.shape[0] * X_test.shape[1], X_test.shape[2]))\n",
        "\n",
        "X_test_normal = scaler.fit_transform(X_test_flattened)\n",
        "\n",
        "X_test_normal = np.reshape(X_test_normal, X_test.shape)"
      ],
      "metadata": {
        "id": "8gTMy0WQEufi"
      },
      "execution_count": 28,
      "outputs": []
    },
    {
      "cell_type": "code",
      "source": [
        "model.fit(X_train_normal, y_train, epochs=50, batch_size=1, validation_data=(X_val, y_val), verbose=2)"
      ],
      "metadata": {
        "colab": {
          "base_uri": "https://localhost:8080/"
        },
        "id": "LxRy08gtE74H",
        "outputId": "f3cffe93-a8d5-48a1-d302-a60df591200f"
      },
      "execution_count": 23,
      "outputs": [
        {
          "output_type": "stream",
          "name": "stdout",
          "text": [
            "Epoch 1/50\n",
            "10094/10094 - 28s - loss: 18.7872 - val_loss: 1632.9346 - 28s/epoch - 3ms/step\n",
            "Epoch 2/50\n",
            "10094/10094 - 28s - loss: 1.7453 - val_loss: 1163.3708 - 28s/epoch - 3ms/step\n",
            "Epoch 3/50\n",
            "10094/10094 - 27s - loss: 0.4427 - val_loss: 372.5477 - 27s/epoch - 3ms/step\n",
            "Epoch 4/50\n",
            "10094/10094 - 29s - loss: 0.1984 - val_loss: 90.1380 - 29s/epoch - 3ms/step\n",
            "Epoch 5/50\n",
            "10094/10094 - 25s - loss: 0.1454 - val_loss: 105.2386 - 25s/epoch - 3ms/step\n",
            "Epoch 6/50\n",
            "10094/10094 - 28s - loss: 0.1133 - val_loss: 92.8284 - 28s/epoch - 3ms/step\n",
            "Epoch 7/50\n",
            "10094/10094 - 24s - loss: 0.0977 - val_loss: 93.8989 - 24s/epoch - 2ms/step\n",
            "Epoch 8/50\n",
            "10094/10094 - 25s - loss: 0.0853 - val_loss: 102.2216 - 25s/epoch - 2ms/step\n",
            "Epoch 9/50\n",
            "10094/10094 - 27s - loss: 0.0741 - val_loss: 86.8494 - 27s/epoch - 3ms/step\n",
            "Epoch 10/50\n",
            "10094/10094 - 28s - loss: 0.0697 - val_loss: 80.1790 - 28s/epoch - 3ms/step\n",
            "Epoch 11/50\n",
            "10094/10094 - 25s - loss: 0.0636 - val_loss: 76.6497 - 25s/epoch - 3ms/step\n",
            "Epoch 12/50\n",
            "10094/10094 - 24s - loss: 0.0562 - val_loss: 73.5158 - 24s/epoch - 2ms/step\n",
            "Epoch 13/50\n",
            "10094/10094 - 23s - loss: 0.0538 - val_loss: 72.3594 - 23s/epoch - 2ms/step\n",
            "Epoch 14/50\n",
            "10094/10094 - 24s - loss: 0.0507 - val_loss: 81.1600 - 24s/epoch - 2ms/step\n",
            "Epoch 15/50\n",
            "10094/10094 - 26s - loss: 0.0477 - val_loss: 89.9872 - 26s/epoch - 3ms/step\n",
            "Epoch 16/50\n",
            "10094/10094 - 23s - loss: 0.0456 - val_loss: 111.4402 - 23s/epoch - 2ms/step\n",
            "Epoch 17/50\n",
            "10094/10094 - 27s - loss: 0.0425 - val_loss: 141.5699 - 27s/epoch - 3ms/step\n",
            "Epoch 18/50\n",
            "10094/10094 - 23s - loss: 0.0417 - val_loss: 153.5445 - 23s/epoch - 2ms/step\n",
            "Epoch 19/50\n",
            "10094/10094 - 23s - loss: 0.0400 - val_loss: 155.5443 - 23s/epoch - 2ms/step\n",
            "Epoch 20/50\n",
            "10094/10094 - 25s - loss: 0.0366 - val_loss: 194.4754 - 25s/epoch - 3ms/step\n",
            "Epoch 21/50\n",
            "10094/10094 - 25s - loss: 0.0383 - val_loss: 206.5288 - 25s/epoch - 2ms/step\n",
            "Epoch 22/50\n",
            "10094/10094 - 25s - loss: 0.0362 - val_loss: 239.7553 - 25s/epoch - 2ms/step\n",
            "Epoch 23/50\n",
            "10094/10094 - 21s - loss: 0.0344 - val_loss: 227.1586 - 21s/epoch - 2ms/step\n",
            "Epoch 24/50\n",
            "10094/10094 - 27s - loss: 0.0333 - val_loss: 249.3158 - 27s/epoch - 3ms/step\n",
            "Epoch 25/50\n",
            "10094/10094 - 22s - loss: 0.0322 - val_loss: 254.8795 - 22s/epoch - 2ms/step\n",
            "Epoch 26/50\n",
            "10094/10094 - 24s - loss: 0.0317 - val_loss: 278.7932 - 24s/epoch - 2ms/step\n",
            "Epoch 27/50\n",
            "10094/10094 - 22s - loss: 0.0319 - val_loss: 313.3807 - 22s/epoch - 2ms/step\n",
            "Epoch 28/50\n",
            "10094/10094 - 24s - loss: 0.0299 - val_loss: 299.3344 - 24s/epoch - 2ms/step\n",
            "Epoch 29/50\n",
            "10094/10094 - 26s - loss: 0.0286 - val_loss: 325.8027 - 26s/epoch - 3ms/step\n",
            "Epoch 30/50\n",
            "10094/10094 - 23s - loss: 0.0304 - val_loss: 336.4148 - 23s/epoch - 2ms/step\n",
            "Epoch 31/50\n",
            "10094/10094 - 24s - loss: 0.0281 - val_loss: 320.5845 - 24s/epoch - 2ms/step\n",
            "Epoch 32/50\n",
            "10094/10094 - 24s - loss: 0.0284 - val_loss: 340.6810 - 24s/epoch - 2ms/step\n",
            "Epoch 33/50\n",
            "10094/10094 - 24s - loss: 0.0271 - val_loss: 322.8560 - 24s/epoch - 2ms/step\n",
            "Epoch 34/50\n",
            "10094/10094 - 23s - loss: 0.0273 - val_loss: 330.1862 - 23s/epoch - 2ms/step\n",
            "Epoch 35/50\n",
            "10094/10094 - 23s - loss: 0.0268 - val_loss: 345.6837 - 23s/epoch - 2ms/step\n",
            "Epoch 36/50\n",
            "10094/10094 - 24s - loss: 0.0260 - val_loss: 334.6605 - 24s/epoch - 2ms/step\n",
            "Epoch 37/50\n",
            "10094/10094 - 23s - loss: 0.0256 - val_loss: 318.3880 - 23s/epoch - 2ms/step\n",
            "Epoch 38/50\n",
            "10094/10094 - 24s - loss: 0.0248 - val_loss: 365.9120 - 24s/epoch - 2ms/step\n",
            "Epoch 39/50\n",
            "10094/10094 - 21s - loss: 0.0259 - val_loss: 353.6332 - 21s/epoch - 2ms/step\n",
            "Epoch 40/50\n",
            "10094/10094 - 24s - loss: 0.0256 - val_loss: 350.1244 - 24s/epoch - 2ms/step\n",
            "Epoch 41/50\n",
            "10094/10094 - 22s - loss: 0.0240 - val_loss: 331.5000 - 22s/epoch - 2ms/step\n",
            "Epoch 42/50\n",
            "10094/10094 - 23s - loss: 0.0254 - val_loss: 344.1755 - 23s/epoch - 2ms/step\n",
            "Epoch 43/50\n",
            "10094/10094 - 25s - loss: 0.0237 - val_loss: 342.3925 - 25s/epoch - 2ms/step\n",
            "Epoch 44/50\n",
            "10094/10094 - 20s - loss: 0.0236 - val_loss: 382.2359 - 20s/epoch - 2ms/step\n",
            "Epoch 45/50\n",
            "10094/10094 - 25s - loss: 0.0221 - val_loss: 367.9137 - 25s/epoch - 2ms/step\n",
            "Epoch 46/50\n",
            "10094/10094 - 23s - loss: 0.0229 - val_loss: 371.2874 - 23s/epoch - 2ms/step\n",
            "Epoch 47/50\n",
            "10094/10094 - 21s - loss: 0.0206 - val_loss: 370.3867 - 21s/epoch - 2ms/step\n",
            "Epoch 48/50\n",
            "10094/10094 - 24s - loss: 0.0228 - val_loss: 373.2382 - 24s/epoch - 2ms/step\n",
            "Epoch 49/50\n",
            "10094/10094 - 24s - loss: 0.0215 - val_loss: 362.7086 - 24s/epoch - 2ms/step\n",
            "Epoch 50/50\n",
            "10094/10094 - 22s - loss: 0.0223 - val_loss: 373.1139 - 22s/epoch - 2ms/step\n"
          ]
        },
        {
          "output_type": "execute_result",
          "data": {
            "text/plain": [
              "<keras.src.callbacks.History at 0x7e3e0043f790>"
            ]
          },
          "metadata": {},
          "execution_count": 23
        }
      ]
    },
    {
      "cell_type": "markdown",
      "source": [
        "Prueba con datos normalizados\n",
        "El error es menor"
      ],
      "metadata": {
        "id": "PGySWsd5MVsB"
      }
    },
    {
      "cell_type": "code",
      "source": [
        "loss = model.evaluate(X_test_normal, y_test, batch_size=1)\n",
        "print(f'Error en el conjunto de prueba: {loss}')"
      ],
      "metadata": {
        "colab": {
          "base_uri": "https://localhost:8080/"
        },
        "id": "6ufxlYgZFAfJ",
        "outputId": "55fc182a-f125-44f7-ed59-1b81a5eb87e0"
      },
      "execution_count": 29,
      "outputs": [
        {
          "output_type": "stream",
          "name": "stdout",
          "text": [
            "2163/2163 [==============================] - 4s 2ms/step - loss: 12.6452\n",
            "Error en el conjunto de prueba: 12.645247459411621\n"
          ]
        }
      ]
    },
    {
      "cell_type": "markdown",
      "source": [],
      "metadata": {
        "id": "5z4ushbYkPww"
      }
    }
  ]
}